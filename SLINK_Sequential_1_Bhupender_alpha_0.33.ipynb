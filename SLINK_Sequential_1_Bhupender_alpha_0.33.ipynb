{
  "cells": [
    {
      "cell_type": "code",
      "execution_count": 25,
      "metadata": {
        "id": "8ePDM50tyUk_"
      },
      "outputs": [],
      "source": [
        "import numpy as np\n",
        "import math\n",
        "import random"
      ]
    },
    {
      "cell_type": "code",
      "execution_count": 26,
      "metadata": {
        "id": "pC_gjWpEyUlC"
      },
      "outputs": [],
      "source": [
        "def kernel(x,y):\n",
        "    return math.exp((-(x-y)**2)/2)"
      ]
    },
    {
      "cell_type": "code",
      "execution_count": 27,
      "metadata": {
        "id": "w-EwTciuyUlC"
      },
      "outputs": [],
      "source": [
        "def computeMMD(x,y,N):\n",
        "    g = [[kernel(x[i], x[j]) + kernel(y[i],y[j]) - (2*kernel(x[i], y[j])) for j in range(N)] for i in range(N)]\n",
        "    return math.sqrt((sum(map(sum,g)) / N**2))"
      ]
    },
    {
      "cell_type": "code",
      "execution_count": 28,
      "metadata": {
        "id": "MZv_CjQkyUlF"
      },
      "outputs": [],
      "source": [
        "def update(x,y,n):\n",
        "    sum = 0\n",
        "    for l in range(n):\n",
        "        sum += kernel(x[l],x[n-1]) + kernel(y[l],y[n-1]) - (2*kernel(x[l],y[n-1]))\n",
        "    for m in range(n-1):\n",
        "        sum += kernel(x[n-1],x[m]) + kernel(y[n-1],y[m]) - (2*kernel(x[n-1],y[m]))\n",
        "    return sum/(n**2)"
      ]
    },
    {
      "cell_type": "code",
      "execution_count": 29,
      "metadata": {
        "id": "fv2hL1_OyUlG",
        "outputId": "51e75371-b311-4fef-94b4-3d7191bf1f9b"
      },
      "outputs": [
        {
          "name": "stdout",
          "output_type": "stream",
          "text": [
            "[[0, 1, 2, 3, 4, 5, 6, 7, 8], [9, 10, 11]] [0.4, 0.55, 0.7, 0.85, 1, 1.15, 1.3, 1.45, 1.6, 1.85, 2, 2.15]\n"
          ]
        }
      ],
      "source": [
        "###########     Algorithm 1 KMED-SEQ: Clustering when K is known S    #########\n",
        "\n",
        "M = 12  # total no of streams\n",
        "K = 2   # no of clusters\n",
        "#Mk = 5  # no of streams per cluster\n",
        "correct = [[0,1,2,3,4,5,6,7,8],[9,10,11]]\n",
        "means = [0.4,0.55,0.7,0.85,1,1.15,1.3,1.45,1.6,1.85,2,2.15]\n",
        "\n",
        "print(correct,means)"
      ]
    },
    {
      "cell_type": "code",
      "execution_count": 30,
      "metadata": {
        "id": "dYxLVkZ1yUlH",
        "outputId": "f0167b38-ced0-4c60-daf7-e104ce124b68"
      },
      "outputs": [
        {
          "name": "stdout",
          "output_type": "stream",
          "text": [
            "[0. 0. 0. 0. 0. 0. 0. 0. 0. 0. 0.] [0. 0. 0. 0. 0. 0. 0. 0. 0. 0. 0.] [0. 0. 0. 0. 0. 0. 0. 0. 0. 0. 0.]\n",
            "-0.31237468504215243 147.4878048780488\n",
            "-0.3364722366212129 465.57142857142856\n",
            "-1.0761394328160512 908.1931818181819\n",
            "-1.2901505005669882 1203.7064220183486\n",
            "-2.5468376075184906 1808.7754569190602\n"
          ]
        }
      ],
      "source": [
        "import math\n",
        "constvec = [1,1.1,1.2,1.3,1.4,1.5,1.6,1.7,1.8,1.9,2]\n",
        "Pe = np.zeros(len(constvec))\n",
        "lnPe=np.zeros(len(constvec))\n",
        "expsamples=np.zeros(len(constvec))\n",
        "print(Pe,lnPe,expsamples)\n",
        "\n",
        "for ii in range(len(constvec)):\n",
        "    const = constvec[ii]\n",
        "    iter_sum = 0\n",
        "    error = 0\n",
        "    total = 0\n",
        "    while error < 30:\n",
        "        ##############  INITIALISATION  ################\n",
        "        # cluster indices 0 to M-1 and an empty list lst\n",
        "        clusters = [[i] for i in range(M)]\n",
        "        lst = [[] for i in range(M)]\n",
        "\n",
        "        # generate first 2 samples to initialize MMD estimate\n",
        "        nn = 2\n",
        "        X = np.asarray([np.random.normal(means[j],1,nn) for j in range(M)])\n",
        "\n",
        "        ####    Calculating initial MMDs between each pair of sequences    ####\n",
        "\n",
        "        lst_dseq =np.zeros((M,M))\n",
        "        for i in range(1,M):\n",
        "            for j in range(i):\n",
        "                lst_dseq[i][j] = computeMMD(X[i,:],X[j,:],nn)\n",
        "                lst_dseq[j][i] = lst_dseq[i][j]\n",
        "        #print(lst_fixed)\n",
        "\n",
        "        ##### TEST-STATISTIC Tn INITIALISATION #####\n",
        "        Tn = 0\n",
        "        #print(np.min(lst_index,axis = 0))               #it will a column matrix of all 0\n",
        "        #print(np.min(lst_index,axis = 1))                #it will a row matrix of all 0\n",
        "\n",
        "        #minval = np.min(lst_fixed[np.nonzero(lst_fixed)])         #will give you the non zero min value of the matrix\n",
        "        #print(minval)\n",
        "\n",
        "        #[min_i,min_j] = np.where(lst_fixed==minval)       #will give the index of the  min value of the matrix\n",
        "        #print([min_i,min_j])\n",
        "\n",
        "        #Tn = minval    #minimum inter-cluster distance\n",
        "        #print('Minimum inter-cluster distance after iteration ', nn, ':', Tn)\n",
        "\n",
        "        while Tn < (const/(nn**(1/3))):\n",
        "            nn =nn + 1\n",
        "\n",
        "            lst_dc = [[] for i in range(M)]\n",
        "            lst_dc = [[lst_dseq[i][j] for j in range(i+1)] for i in range(M)]\n",
        "            for i in range(M):\n",
        "                for j in range(M):\n",
        "                    if i<j:\n",
        "                        lst_dc[i].append(lst_dc[j][i])\n",
        "            #print(lst_new)\n",
        "            #####\n",
        "            # Code for SLINK\n",
        "            clusters = [[i] for i in range(M)]\n",
        "            # Merge closest clusters till number of clusters is equal to K\n",
        "            while len(clusters)>K:\n",
        "\n",
        "                ####    FIND MINIMUM    ####\n",
        "\n",
        "                #mi = sys.float_info.max\n",
        "                mi = 100\n",
        "                for i in range(len(lst_dc)):\n",
        "                    for j in range(i+1):\n",
        "                        if i != j:\n",
        "                            if lst_dc[i][j] < mi:\n",
        "                                mi = lst_dc[i][j]\n",
        "                                a,b = [i,j]\n",
        "                #print(\"the values of a and b are :\", a,b)\n",
        "                clusters[b].extend(clusters[a])  #add the elements of a to b at the end\n",
        "                del clusters[a]                   #delete cluster a\n",
        "                #print(clusters)\n",
        "\n",
        "                ####    MERGE ROWS  ####\n",
        "                #print(\"the lst[b] is \",lst[b])\n",
        "                #print(\"the lst[a] is \",lst[a])\n",
        "                for i in range(len(lst_dc[b])):        #merge rows 'a' and 'b'\n",
        "                    if min(lst_dc[a][i],lst_dc[b][i]) != 0:\n",
        "                        lst_dc[b][i] = min(lst_dc[a][i],lst_dc[b][i])\n",
        "                del lst_dc[a]\n",
        "\n",
        "                ####    UPDATE ROWS     ####\n",
        "                for i in range(len(lst_dc)):       #update all other rows\n",
        "                    if i!=b:\n",
        "                        lst_dc[i][b] = min(lst_dc[i][a],lst_dc[i][b])\n",
        "                    del lst_dc[i][a]   #new statement\n",
        "\n",
        "                #print('dist matrix', lst)\n",
        "                #print('dist matrix 2', dist)\n",
        "                #print('clusters',clusters)\n",
        "\n",
        "            #print('Clusters after iteration ', nn, ':', clusters)\n",
        "\n",
        "            mi = 100\n",
        "            for i in range(len(lst_dc)):\n",
        "                for j in range(i+1):\n",
        "                    if i != j:\n",
        "                        if lst_dc[i][j] < mi:\n",
        "                            mi = lst_dc[i][j]\n",
        "            Tn = mi\n",
        "\n",
        "            # generate one more sample for each data stream\n",
        "            z = np.asarray([np.random.normal(means[j],1,1) for j in range(M) ])  #creates a 1 dim array with means and SD 1\n",
        "            X = np.append(X,z,axis=1)       # new samples   #axis =1 means it will add the values of z along column wise\n",
        "\n",
        "            #Update MMDs between each pair of data streams\n",
        "            lst_dseq_1=np.zeros((M,M))\n",
        "            for i in range(M):\n",
        "                for j in range(i):\n",
        "                    lst_dseq_1[i,j] = math.sqrt(((lst_dseq[i][j]*(nn-1)/nn)**2) + update(X[i,:],X[j,:],nn))      # updated distances\n",
        "                    lst_dseq_1[j,i]=lst_dseq_1[i,j]\n",
        "            for i in range(M):\n",
        "                for j in range(M):\n",
        "                    lst_dseq[i,j] =lst_dseq_1[i,j]\n",
        "\n",
        "        #print('Minimum inter-cluster distance after iteration ', nn, ':', Tn)\n",
        "        #print('Clusters after iteration ', nn, ':', clusters)\n",
        "        #print('Errors', error)\n",
        "        #print('Total', total)\n",
        "\n",
        "        # Check if clustering is correct and update errors and number of samples taken\n",
        "        iter_sum += nn\n",
        "        # CHECKING IF IT'S CORRECT\n",
        "        clusters.sort()\n",
        "        C_sort = []\n",
        "        for x in clusters:\n",
        "            x.sort()\n",
        "            C_sort.append(x)\n",
        "\n",
        "        if C_sort != correct:\n",
        "            error = error + 1\n",
        "        total = total + 1\n",
        "\n",
        "        #print(C_sort)\n",
        "\n",
        "\n",
        "    Pe[ii] = error/total\n",
        "    lnPe[ii] = math.log(Pe[ii])\n",
        "    expsamples[ii]= iter_sum/total\n",
        "    print(lnPe[ii],expsamples[ii])\n",
        "\n",
        "print(total,expsamples,lnPe)\n",
        "print(iter_sum / total)\n"
      ]
    },
    {
      "cell_type": "code",
      "execution_count": null,
      "metadata": {
        "id": "Cx_r89a8yUlK",
        "outputId": "e63a183a-fc20-42ed-83f8-118ce9b1029d"
      },
      "outputs": [
        {
          "data": {
            "image/png": "[encoded data removed]",
            "text/plain": [
              "<Figure size 640x480 with 1 Axes>"
            ]
          },
          "metadata": {},
          "output_type": "display_data"
        }
      ],
      "source": [
        "import matplotlib.pyplot as plt\n",
        "plt.grid()\n",
        "plt.plot(expsamples,lnPe,\"*r-\")\n",
        "x=[0.31578947,0.25423729,0.1056338,0.06396588,0.03807107]\n",
        "y=[-1.15267951,-1.36948724,-2.24777686,-2.74940539,-3.26830071]\n"
      ]
    },
    {
      "cell_type": "code",
      "execution_count": null,
      "metadata": {
        "id": "5sfB7AETyUlL",
        "outputId": "0642ed88-40ee-4dbb-a78a-b6b53e2c6dbc"
      },
      "outputs": [
        {
          "name": "stdout",
          "output_type": "stream",
          "text": [
            "[[], [], [], [], [], [], [], [], [], [], [], [], [], [], [], [], [], [], [], [], [], [], [], [], []]\n"
          ]
        }
      ],
      "source": [
        "print(lst)"
      ]
    },
    {
      "cell_type": "code",
      "execution_count": null,
      "metadata": {
        "id": "fnepMD_VyUlN",
        "outputId": "f44b120a-4380-46fc-efbe-4dd5a8e70130"
      },
      "outputs": [
        {
          "name": "stdout",
          "output_type": "stream",
          "text": [
            "[1, 2] [1, 2, 3, 4, 5]\n"
          ]
        }
      ],
      "source": [
        "a = [1,2,3,4,5]\n",
        "b = a\n",
        "a = [1,2]\n",
        "print(a,b)"
      ]
    },
    {
      "cell_type": "code",
      "execution_count": null,
      "metadata": {
        "id": "usGv6tgYyUlP",
        "outputId": "0ad49dd8-2180-4422-d03d-5a57bd94b2b9"
      },
      "outputs": [
        {
          "name": "stdout",
          "output_type": "stream",
          "text": [
            "[[], [], [], [], [], [], [], [], [], [], [], [], [], [], [], [], [], [], [], [], [], [], [], [], []]\n"
          ]
        },
        {
          "ename": "NameError",
          "evalue": "name 'lst_fixed' is not defined",
          "output_type": "error",
          "traceback": [
            "\u001b[1;31m---------------------------------------------------------------------------\u001b[0m",
            "\u001b[1;31mNameError\u001b[0m                                 Traceback (most recent call last)",
            "Cell \u001b[1;32mIn[63], line 2\u001b[0m\n\u001b[0;32m      1\u001b[0m \u001b[39mprint\u001b[39m(lst)\n\u001b[1;32m----> 2\u001b[0m \u001b[39mprint\u001b[39m(lst_fixed)\n",
            "\u001b[1;31mNameError\u001b[0m: name 'lst_fixed' is not defined"
          ]
        }
      ],
      "source": [
        "print(lst)\n",
        "print(lst_fixed)"
      ]
    },
    {
      "cell_type": "code",
      "execution_count": null,
      "metadata": {
        "id": "wTY-EDpByUlR",
        "outputId": "84b40910-f06e-4952-c53a-b51018b2a16c"
      },
      "outputs": [
        {
          "name": "stdout",
          "output_type": "stream",
          "text": [
            "-11\n",
            "[[ -8  -9 -10 -11]]\n",
            "[[ -3]\n",
            " [ -7]\n",
            " [-11]]\n"
          ]
        }
      ],
      "source": [
        "x = -np.matrix(np.arange(12).reshape((3,4))); x\n",
        "#matrix([[  0,  -1,  -2,  -3],\n",
        "       # [ -4,  -5,  -6,  -7],\n",
        "        #[ -8,  -9, -10, -11]])\n",
        "\n",
        "print(x.min())\n",
        "-11\n",
        "\n",
        "print(x.min(0))\n",
        "#matrix([[ -8,  -9, -10, -11]])\n",
        "\n",
        "print(x.min(1))\n",
        "#matrix([[ -3],\n",
        "        #[ -7],\n",
        "        #[-11]])"
      ]
    }
  ],
  "metadata": {
    "colab": {
      "provenance": []
    },
    "kernelspec": {
      "display_name": "Python 3.10.0 64-bit",
      "language": "python",
      "name": "python3"
    },
    "language_info": {
      "codemirror_mode": {
        "name": "ipython",
        "version": 3
      },
      "file_extension": ".py",
      "mimetype": "text/x-python",
      "name": "python",
      "nbconvert_exporter": "python",
      "pygments_lexer": "ipython3",
      "version": "3.11.4"
    },
    "orig_nbformat": 4,
    "vscode": {
      "interpreter": {
        "hash": "fbc768028c3e6ead51d9a200ddcb2ec858ae62844dcd1994729a8279be9b48f2"
      }
    }
  },
  "nbformat": 4,
  "nbformat_minor": 0
}
