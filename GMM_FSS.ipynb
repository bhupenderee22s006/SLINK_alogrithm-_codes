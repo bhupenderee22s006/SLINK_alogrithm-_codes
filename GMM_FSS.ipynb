{
 "cells": [
  {
   "cell_type": "code",
   "execution_count": 1,
   "metadata": {},
   "outputs": [],
   "source": [
    "import numpy as np\n",
    "import math\n",
    "import sys"
   ]
  },
  {
   "cell_type": "code",
   "execution_count": 2,
   "metadata": {},
   "outputs": [],
   "source": [
    "\n",
    "def kernel(x,y):\n",
    "    return np.exp((-(x-y)**2)/2)"
   ]
  },
  {
   "cell_type": "code",
   "execution_count": 3,
   "metadata": {},
   "outputs": [],
   "source": [
    "def computeMMD(x, y, N,i,j):\n",
    "    # Convert x and y to numpy arrays\n",
    "    x = np.array(x)\n",
    "    y = np.array(y)\n",
    "    \n",
    "    # Compute kernel matrices using broadcasting\n",
    "    Kxx = kernel(x[:, None], x[None, :])  # Kernel matrix for x with itself\n",
    "    Kyy = kernel(y[:, None], y[None, :])  # Kernel matrix for y with itself\n",
    "    Kxy = kernel(x[:, None], y[None, :])  # Kernel matrix for x with y\n",
    "\n",
    "    # Calculate the MMD using vectorized operations\n",
    "    MMD_squared = (np.sum(Kxx) + np.sum(Kyy) - 2 * np.sum(Kxy)) / (N**2)\n",
    "    # print(i,j,MMD_squared)\n",
    "    return np.sqrt(MMD_squared)\n"
   ]
  },
  {
   "cell_type": "code",
   "execution_count": 4,
   "metadata": {},
   "outputs": [
    {
     "name": "stdout",
     "output_type": "stream",
     "text": [
      "[[0, 1, 2], [3, 4, 5]]\n"
     ]
    }
   ],
   "source": [
    "#lst = [[0,10,6,5,9],[10,0,8,7,2],[6,8,0,1,4],[5,7,1,0,3],[9,2,4,3,0]]\n",
    "import random\n",
    "M = 6      # total number of sequences\n",
    "Mk = 5      # number of sequences per cluster\n",
    "K = 2       # number of clusters\n",
    "# N = 1500     # number of elements in 1 sequence\n",
    "clusters = [[i] for i in range(M)]\n",
    "# means = [0.4,0.55,0.7,0.85,1,1.15,1.3,1.45,1.6, 1.85,2,2.15]\n",
    "#means = [i for i in range(K) for j in range(Mk)]\n",
    "correct = [[0,1,2],[3,4,5]]\n",
    "#correct = [[(Mk*i)+j for j in range(Mk)]for i in range(K)]\n",
    "# print(means)\n",
    "print(correct)\n",
    "# with open('slink-fss-mmdnew100.txt', 'a') as f:\n",
    "#     print(correct,means, file = f)"
   ]
  },
  {
   "cell_type": "code",
   "execution_count": null,
   "metadata": {},
   "outputs": [],
   "source": [
    "Nvec = [20,60,100,140,180,220,260,300,340,380,400]\n",
    "# Nvec = [5,10,15,20,25,30,35,40,45,50,55,60,65,70,75]\n",
    "\n",
    "Pe = np.zeros(len(Nvec))\n",
    "lnPe=np.zeros(len(Nvec))\n",
    "\n",
    "for ii in range(len(Nvec)):\n",
    "    N = Nvec[ii]\n",
    "    total = 0\n",
    "    error = 0\n",
    "    while total < 3500:\n",
    "\n",
    "        clusters = [[i] for i in range(M)]\n",
    "        total += 1\n",
    "        lst = [[] for i in range(M)]\n",
    "        # a = [np.random.normal(means[i],1,(1,N)) for i in range(M)]\n",
    "        # y = np.asarray(a)\n",
    "        # y = np.vstack(y)\n",
    "        p = 0.7\n",
    "        k = np.random.binomial(1,p,N)\n",
    "        sample_1 = ((1 - k) ) * np.random.normal(-0.5, 1, (1,N)) + (k) * np.random.normal(0, 1, (1,N))\n",
    "        k = np.random.binomial(1,p,N)\n",
    "        sample_2 = ((1 - k) ) * np.random.normal(0, 1, (1,N)) + (k) * np.random.normal(0.5, 1, (1,N))\n",
    "        k = np.random.binomial(1,p,N)\n",
    "        sample_3 = ((1 - k)) * np.random.normal(0.5, 1, (1,N)) + (k ) * np.random.normal(1, 1, (1,N))\n",
    "        k = np.random.binomial(1,p,N)\n",
    "        sample_4 = ((1 - k)) * np.random.normal(2, 1, (1,N)) + (k ) * np.random.normal(2.5, 1, (1,N))-0.8\n",
    "        k = np.random.binomial(1,p,N)\n",
    "        sample_5 = ((1 - k) ) * np.random.normal(2.5, 1, (1,N)) + (k) * np.random.normal(3, 1, (1,N))-0.8\n",
    "        k = np.random.binomial(1,p,N)\n",
    "        sample_6 = ((1 - k) ) * np.random.normal(3, 1, (1,N)) + (k) * np.random.normal(3.5, 1, (1,N)) - 0.8\n",
    "        y = np.vstack((sample_1, sample_2, sample_3, sample_4, sample_5, sample_6))\n",
    "        lst = [[computeMMD(y[i,:],y[j,:],N,i,j) for j in range(i+1)] for i in range(M)]\n",
    "\n",
    "        for i in range(M):\n",
    "            for j in range(M):\n",
    "                if i<j:\n",
    "                    lst[i].append(lst[j][i])\n",
    "        #print(lst)\n",
    "        n = 0\n",
    "        while len(clusters)>K:\n",
    "\n",
    "            ####    FIND MINIMUM    ####\n",
    "        \n",
    "            #mi = sys.float_info.max\n",
    "            mi = 100\n",
    "            for i in range(len(lst)):\n",
    "                for j in range(i+1):\n",
    "                    if i != j:\n",
    "                        if lst[i][j] < mi:\n",
    "                            mi = lst[i][j]\n",
    "                            a,b = [i,j]\n",
    "            #print(a,b)\n",
    "            clusters[b].extend(clusters[a])\n",
    "            del clusters[a]\n",
    "            #print(clusters)\n",
    "\n",
    "            ####    MERGE ROWS  ####\n",
    "\n",
    "            for i in range(len(lst[b])):        #merge rows 'a' and 'b'\n",
    "                if min(lst[a][i],lst[b][i]) != 0:\n",
    "                    lst[b][i] = min(lst[a][i],lst[b][i])\n",
    "            del lst[a]\n",
    "\n",
    "            ####    UPDATE ROWS     ####\n",
    "\n",
    "            for i in range(len(lst)):       #update all other rows\n",
    "                if i!=b:\n",
    "                    lst[i][b] = min(lst[i][a],lst[i][b])\n",
    "                del lst[i][a]   #new statement\n",
    "\n",
    "            #print('dist matrix', lst)\n",
    "            #print('dist matrix 2', dist)\n",
    "            # print('clusters',clusters)\n",
    "            n = n+1\n",
    "\n",
    "        clusters.sort()\n",
    "        C_sort = []\n",
    "        for x in clusters:\n",
    "            x.sort()\n",
    "            C_sort.append(x)\n",
    "\n",
    "        #print(C_sort)\n",
    "        #print(centers)\n",
    "\n",
    "        if correct != C_sort:\n",
    "            error = error + 1\n",
    "            #print('L')\n",
    "        #else:\n",
    "            #print('W')\n",
    "        # print(error,total)\n",
    "\n",
    "\n",
    "    Pe[ii] = error/total\n",
    "    lnPe[ii] = math.log(Pe[ii])\n",
    "    print(total,Pe[ii],lnPe[ii])\n",
    "\n",
    "    # with open('slink-fss-mmdnew100.txt', 'a') as f:\n",
    "    #     print(N,lnPe[ii], file = f)"
   ]
  },
  {
   "cell_type": "code",
   "execution_count": null,
   "metadata": {},
   "outputs": [
    {
     "name": "stdout",
     "output_type": "stream",
     "text": [
      "[-0.42028872 -0.64191103 -0.78965808 -0.95043862 -1.09575922 -1.28528616\n",
      " -1.34597535 -1.55793036 -1.69905007 -1.82369252 -1.87638409]\n",
      "[20, 60, 100, 140, 180, 220, 260, 300, 340, 380, 400]\n"
     ]
    },
    {
     "data": {
      "image/png": "[encoded data removed]",
      "text/plain": [
       "<Figure size 640x480 with 1 Axes>"
      ]
     },
     "metadata": {},
     "output_type": "display_data"
    }
   ],
   "source": [
    "import matplotlib.pyplot as plt\n",
    "print(lnPe)\n",
    "print(Nvec)\n",
    "plt.plot(Nvec,lnPe,'-r.',label = 'MMD')\n",
    "plt.show()\n"
   ]
  },
  {
   "cell_type": "code",
   "execution_count": null,
   "metadata": {},
   "outputs": [],
   "source": []
  }
 ],
 "metadata": {
  "kernelspec": {
   "display_name": "ML_env",
   "language": "python",
   "name": "python3"
  },
  "language_info": {
   "codemirror_mode": {
    "name": "ipython",
    "version": 3
   },
   "file_extension": ".py",
   "mimetype": "text/x-python",
   "name": "python",
   "nbconvert_exporter": "python",
   "pygments_lexer": "ipython3",
   "version": "3.8.18"
  },
  "orig_nbformat": 4
 },
 "nbformat": 4,
 "nbformat_minor": 2
}
