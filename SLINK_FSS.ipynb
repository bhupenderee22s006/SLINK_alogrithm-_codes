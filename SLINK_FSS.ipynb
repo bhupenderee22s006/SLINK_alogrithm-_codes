{
 "cells": [
  {
   "cell_type": "code",
   "execution_count": 1,
   "metadata": {
    "colab": {
     "base_uri": "https://localhost:8080/"
    },
    "executionInfo": {
     "elapsed": 1014,
     "status": "ok",
     "timestamp": 1727268321324,
     "user": {
      "displayName": "Bhupender Singh",
      "userId": "16864942127141395829"
     },
     "user_tz": -330
    },
    "id": "DeCUCThCAX7G",
    "outputId": "80e7804b-a814-4916-a37d-197e3e19e4c9"
   },
   "outputs": [
    {
     "name": "stdout",
     "output_type": "stream",
     "text": [
      "3 2\n",
      "5\n",
      "dist matrix [[0, 10, 5, 9], [10, 0, 8, 2], [5, 8, 0, 3], [9, 2, 3, 0]]\n",
      "clusters [[0], [1], [2, 3], [4]]\n",
      "3 1\n",
      "4\n",
      "dist matrix [[0, 10, 5, 9, 9, 5], [9, 0, 8, 2, 3], [5, 3, 0, 3]]\n",
      "clusters [[0], [1, 4], [2, 3]]\n",
      "2 1\n",
      "3\n",
      "dist matrix [[0, 10, 5, 9, 9, 5, 5], [5, 0, 8, 2, 3]]\n",
      "clusters [[0], [1, 4, 2, 3]]\n",
      "[0]\n",
      "[1, 4, 2, 3]\n"
     ]
    }
   ],
   "source": [
    "import numpy as np\n",
    "import copy\n",
    "import math\n",
    "dist = [[0,10,6,5,9],[10,0,8,7,2],[6,8,0,1,4],[5,7,1,0,3],[9,2,4,3,0]]\n",
    "#clusters= [[0],[1],[2],[3],[4],[5],[6],[7],[8],[9],[10],[11]]\n",
    "clusters = [[0],[1],[2],[3],[4]]\n",
    "# mi = 50\n",
    "# for i in range(len(dist)):\n",
    "#     if min(dist[i]) < mi an:\n",
    "#         mi = min(ele)\n",
    "#lst = [[0],[0.23,0],[0.22,0.14,0],[0.37,0.19,0.13,0],[0.34,0.14,0.28,0.23,0],[0.24,0.24,0.1,0.22,0.39,0]]\n",
    "lst = [[0],[10,0],[6,8,0],[5,7,1,0],[9,2,4,3,0]]\n",
    "#data = [0.4,0.55,0.7,0.85,1,1.15,1.3,1.45,1.6, 2,2.2,2.4]\n",
    "#x = [0.4,0.22,0.35,0.36,0.08,0.45]\n",
    "#y = [0.53,0.38,0.32,0.19,0.41,0.3]\n",
    "#clusters = [[],[]]\n",
    "#M = 12\n",
    "#lst = [[0],[10,0],[6,8,0],[5,7,1,0],[9,2,4,3,0]]\n",
    "# lst = [[] for i in range(M)]\n",
    "# dist = [[] for i in range(M)]\n",
    "# for i in range(M):\n",
    "#     for j in range(i+1):\n",
    "#         lst[i].append(man(data[i],data[j]))\n",
    "# for i in range(M):\n",
    "#     for j in range(M):\n",
    "#         if j <= i:\n",
    "#             dist[i].append(lst[i][j])\n",
    "#         else:\n",
    "#             dist[i].append(lst[j][i])\n",
    "#print(lst)\n",
    "dst = []\n",
    "n = 0\n",
    "while len(clusters)>2:\n",
    "    mi = 50\n",
    "    for i in range(len(lst)):\n",
    "        for j in range(i+1):\n",
    "            if i != j:\n",
    "                if lst[i][j] < mi:\n",
    "                    mi = lst[i][j]\n",
    "                    a,b = [i,j]\n",
    "    print(a,b)\n",
    "    clusters[b].extend(clusters[a])\n",
    "    del clusters[a]\n",
    "    #print(clusters)\n",
    "\n",
    "    print(len(lst))\n",
    "    for i in range(math.floor(len(lst[b])/2)):\n",
    "        lst[b][i] = min(lst[a][i],lst[b][i])\n",
    "    #del lst[a]\n",
    "    #lst[a][b]\n",
    "    for i in range(b+1,len(lst)):\n",
    "        #print('yes',i,a)\n",
    "        #print(dist[i+1][a],dist[i+1][b])\n",
    "        lst[i][b] = min(lst[i][a],lst[i][b])\n",
    "        if i > a:\n",
    "            del lst[i][a]   #new statement\n",
    "    del lst[a]\n",
    "    # del dist[a]\n",
    "    # for i in dist:\n",
    "    #     print(dist)\n",
    "    #     del i[a]\n",
    "    # dist = copy.deepcopy(lst)\n",
    "    # for i in range(len(dist)):\n",
    "    #     for j in range(len(dist)):\n",
    "    #         if i<j:\n",
    "    #             dist[i].append(dist[j][i])\n",
    "    for i in range(len(lst)):\n",
    "        for j in range(len(lst)):\n",
    "            if i<j:\n",
    "                lst[i].append(lst[j][i])\n",
    "    print('dist matrix', lst)\n",
    "    #print('dist matrix 2', dist)\n",
    "    print('clusters',clusters)\n",
    "    n = n+1\n",
    "\n",
    "for i in clusters:\n",
    "    print(i)"
   ]
  },
  {
   "cell_type": "code",
   "execution_count": 2,
   "metadata": {
    "executionInfo": {
     "elapsed": 1,
     "status": "ok",
     "timestamp": 1727268321324,
     "user": {
      "displayName": "Bhupender Singh",
      "userId": "16864942127141395829"
     },
     "user_tz": -330
    },
    "id": "5frdA1KeAX7D"
   },
   "outputs": [],
   "source": [
    "def man(a,b):\n",
    "    return abs(a-b)"
   ]
  },
  {
   "cell_type": "code",
   "execution_count": 3,
   "metadata": {
    "executionInfo": {
     "elapsed": 4530,
     "status": "ok",
     "timestamp": 1727268325853,
     "user": {
      "displayName": "Bhupender Singh",
      "userId": "16864942127141395829"
     },
     "user_tz": -330
    },
    "id": "rOVlNZDzAX7I"
   },
   "outputs": [],
   "source": [
    "import numpy as np\n",
    "import math\n",
    "import sys\n",
    "from sklearn import datasets\n",
    "from sklearn.decomposition import PCA"
   ]
  },
  {
   "cell_type": "code",
   "execution_count": 4,
   "metadata": {
    "executionInfo": {
     "elapsed": 12,
     "status": "ok",
     "timestamp": 1727268325854,
     "user": {
      "displayName": "Bhupender Singh",
      "userId": "16864942127141395829"
     },
     "user_tz": -330
    },
    "id": "Yav8FWr8AX7K"
   },
   "outputs": [],
   "source": [
    "\n",
    "def kernel(x,y):\n",
    "    return math.exp((-(x-y)**2)/2)"
   ]
  },
  {
   "cell_type": "code",
   "execution_count": 5,
   "metadata": {
    "executionInfo": {
     "elapsed": 11,
     "status": "ok",
     "timestamp": 1727268325854,
     "user": {
      "displayName": "Bhupender Singh",
      "userId": "16864942127141395829"
     },
     "user_tz": -330
    },
    "id": "Kd4tk1UfAX7L"
   },
   "outputs": [],
   "source": [
    "def kernel2D(x,y):\n",
    "    return math.exp((-((x[0]-y[0])**2 + (x[1]-y[1])**2)/2))"
   ]
  },
  {
   "cell_type": "code",
   "execution_count": 6,
   "metadata": {
    "executionInfo": {
     "elapsed": 10,
     "status": "ok",
     "timestamp": 1727268325854,
     "user": {
      "displayName": "Bhupender Singh",
      "userId": "16864942127141395829"
     },
     "user_tz": -330
    },
    "id": "YWZB_Do6AX7M"
   },
   "outputs": [],
   "source": [
    "def computeMMD(x,y,N):\n",
    "    g = [[kernel(x[0][i], x[0][j]) + kernel(y[0][i],y[0][j]) - (2*kernel(x[0][i], y[0][j])) for j in range(N)] for i in range(N)]\n",
    "    return math.sqrt((sum(map(sum,g)) / N**2))"
   ]
  },
  {
   "cell_type": "code",
   "execution_count": 7,
   "metadata": {
    "executionInfo": {
     "elapsed": 10,
     "status": "ok",
     "timestamp": 1727268325854,
     "user": {
      "displayName": "Bhupender Singh",
      "userId": "16864942127141395829"
     },
     "user_tz": -330
    },
    "id": "qfOd-_NqAX7O"
   },
   "outputs": [],
   "source": [
    "def computeMMD2(x,y,N):\n",
    "    g = [[kernel2D(x[i], x[j]) + kernel2D(y[i],y[j]) - (2*kernel2D(x[i], y[j])) for j in range(N)] for i in range(N)]\n",
    "    return math.sqrt((sum(map(sum,g)) / N**2))"
   ]
  },
  {
   "cell_type": "code",
   "execution_count": 8,
   "metadata": {
    "executionInfo": {
     "elapsed": 10,
     "status": "ok",
     "timestamp": 1727268325854,
     "user": {
      "displayName": "Bhupender Singh",
      "userId": "16864942127141395829"
     },
     "user_tz": -330
    },
    "id": "-UYuj3YZAX7O"
   },
   "outputs": [],
   "source": [
    "def kernel4D(x,y):\n",
    "    return math.exp(-((x[0]-y[0])**2 + (x[1]-y[1])**2 + (x[2]-y[2])**2 + (x[3]-y[3])**2))"
   ]
  },
  {
   "cell_type": "code",
   "execution_count": 9,
   "metadata": {
    "executionInfo": {
     "elapsed": 9,
     "status": "ok",
     "timestamp": 1727268325854,
     "user": {
      "displayName": "Bhupender Singh",
      "userId": "16864942127141395829"
     },
     "user_tz": -330
    },
    "id": "vcwVwLDjAX7Q"
   },
   "outputs": [],
   "source": [
    "def computeMMD4(x,y,N):\n",
    "    g = [[kernel4D(x[i], x[j]) + kernel4D(y[i],y[j]) - (2*kernel4D(x[i], y[j])) for j in range(N)] for i in range(N)]\n",
    "    return math.sqrt((sum(map(sum,g)) / N**2))"
   ]
  },
  {
   "cell_type": "code",
   "execution_count": 10,
   "metadata": {
    "executionInfo": {
     "elapsed": 10,
     "status": "ok",
     "timestamp": 1727268325855,
     "user": {
      "displayName": "Bhupender Singh",
      "userId": "16864942127141395829"
     },
     "user_tz": -330
    },
    "id": "pS9JoxtAAX7S"
   },
   "outputs": [],
   "source": [
    "# def computeKS(a,b,N):\n",
    "\n",
    "#     dsum = []\n",
    "#     x = np.arange(-5,8,0.1)\n",
    "#     for j in x:\n",
    "#         suma = sum([i < j for i in a])\n",
    "#         sumb = sum([i < j for i in b])\n",
    "#         dsum.append(abs(suma - sumb)/N)\n",
    "#     return max(dsum)"
   ]
  },
  {
   "cell_type": "code",
   "execution_count": 11,
   "metadata": {
    "colab": {
     "base_uri": "https://localhost:8080/"
    },
    "executionInfo": {
     "elapsed": 10,
     "status": "ok",
     "timestamp": 1727268325856,
     "user": {
      "displayName": "Bhupender Singh",
      "userId": "16864942127141395829"
     },
     "user_tz": -330
    },
    "id": "W2WTkAMRAX7T",
    "outputId": "c3cd86bc-3b54-4487-c99c-354240e312f7"
   },
   "outputs": [
    {
     "name": "stdout",
     "output_type": "stream",
     "text": [
      "1000\n",
      "[[0, 1, 2, 3, 4], [5, 6, 7, 8, 9], [10, 11, 12, 13, 14]]\n",
      "[0, 1, 2, 3, 4, 50, 51, 52, 54, 55, 100, 101, 102, 103, 104]\n"
     ]
    }
   ],
   "source": [
    "#lst = [[0,10,6,5,9],[10,0,8,7,2],[6,8,0,1,4],[5,7,1,0,3],[9,2,4,3,0]]\n",
    "import random\n",
    "M = 15      # total number of sequences\n",
    "Mk = 5      # number of sequences per cluster\n",
    "K = 3       # number of clusters\n",
    "N = 1000     # number of elements in 1 sequence\n",
    "#clusters = [[i] for i in range(M)]\n",
    "#means = [0.4,0.55,0.7,0.85,1,1.15,1.3,1.46,1.6, 1.85,2,2.15]\n",
    "#means = [i for i in range(K) for j in range(Mk)]\n",
    "#means = [0.7,0.85,1,1.15,1.3, 1.7,1.85,2,2.15,2.3]\n",
    "#correct = [[0,1,2,3,4,5,6,7,8],[9,10,11]]\n",
    "correct = [[(Mk*i)+j for j in range(Mk)]for i in range(K)]\n",
    "#correct = [[0,1,2,3,4],[5,6,7,8,9]]\n",
    "#means = [[] for i in range(K)]\n",
    "# delta = 0.1\n",
    "# means = []\n",
    "# s = (Mk+1)/2\n",
    "# for i in range(K):\n",
    "#     for j in range(Mk):\n",
    "#         means.append(i + ((j+1-s)*delta/2) )\n",
    "#means_2D = [[i,i] for i in range (2) for j in range(5)]\n",
    "#means_2D = [[-0.1,-0.1],[-0.1,0.1],[0,0],[0.1,-0.1],[0.1,0.1],[0.9,-0.1],[0.9,0.1],[1,0],[1.1,-0.1],[1.1,0.1]]\n",
    "#cov = [[1,0.1],[0.1,1]]\n",
    "print(N)\n",
    "#print(means)\n",
    "print(correct)\n",
    "sub = [(50*j + i) for j in range(3) for i in range(5)]\n",
    "sub = [0, 1, 2, 3, 4, 50, 51, 52, 54, 55, 100, 101, 102, 103, 104]\n",
    "print(sub)"
   ]
  },
  {
   "cell_type": "code",
   "execution_count": 12,
   "metadata": {
    "executionInfo": {
     "elapsed": 9,
     "status": "ok",
     "timestamp": 1727268325856,
     "user": {
      "displayName": "Bhupender Singh",
      "userId": "16864942127141395829"
     },
     "user_tz": -330
    },
    "id": "adwzakDCAX7U"
   },
   "outputs": [],
   "source": [
    "# import some data to play with\n",
    "iris = datasets.load_iris()\n",
    "X = iris.data\n",
    "cov = 0.1 * np.eye(4)\n"
   ]
  },
  {
   "cell_type": "code",
   "execution_count": 13,
   "metadata": {
    "colab": {
     "base_uri": "https://localhost:8080/"
    },
    "executionInfo": {
     "elapsed": 8,
     "status": "ok",
     "timestamp": 1727268325856,
     "user": {
      "displayName": "Bhupender Singh",
      "userId": "16864942127141395829"
     },
     "user_tz": -330
    },
    "id": "6CEui8R7AX7V",
    "outputId": "486204ca-9428-4ab6-a364-c97cf5b3c6a8"
   },
   "outputs": [
    {
     "name": "stdout",
     "output_type": "stream",
     "text": [
      "[5.1 3.5 1.4 0.2]\n",
      "[4.9 3.  1.4 0.2]\n",
      "[4.7 3.2 1.3 0.2]\n",
      "[4.6 3.1 1.5 0.2]\n",
      "[5.  3.6 1.4 0.2]\n",
      "[7.  3.2 4.7 1.4]\n",
      "[6.4 3.2 4.5 1.5]\n",
      "[6.9 3.1 4.9 1.5]\n",
      "[6.5 2.8 4.6 1.5]\n",
      "[5.7 2.8 4.5 1.3]\n",
      "[6.3 3.3 6.  2.5]\n",
      "[5.8 2.7 5.1 1.9]\n",
      "[7.1 3.  5.9 2.1]\n",
      "[6.3 2.9 5.6 1.8]\n",
      "[6.5 3.  5.8 2.2]\n"
     ]
    }
   ],
   "source": [
    "for i in sub:\n",
    "    print(X[i,:])"
   ]
  },
  {
   "cell_type": "code",
   "execution_count": null,
   "metadata": {
    "id": "_ZjTkwQJAX7W"
   },
   "outputs": [],
   "source": [
    "import math\n",
    "total = 0\n",
    "error = 0\n",
    "while total < 20:\n",
    "\n",
    "    clusters = [[i] for i in range(M)]\n",
    "    total += 1\n",
    "    lst = [[] for i in range(M)]\n",
    "    #a = [np.random.normal(means[i],1,(1,N)) for i in range(M)]\n",
    "    y = np.asarray([np.random.multivariate_normal(X[i],cov,N) for i in sub])\n",
    "    #y = np.asarray(a)\n",
    "    lst = [[computeMMD4(y[i,:,:],y[j,:,:],N) for j in range(i+1)] for i in range(M)]\n",
    "    #lst = [[computeMMD(y[i,:],y[j,:],N) for j in range(i+1)] for i in range(M)]\n",
    "    #lst = [[computeMMD2(y[i,:][0],y[j,:][0],N) for j in range(i+1)] for i in range(M)]\n",
    "\n",
    "    for i in range(M):\n",
    "        for j in range(M):\n",
    "            if i<j:\n",
    "                lst[i].append(lst[j][i])\n",
    "    print(lst)\n",
    "    n = 0\n",
    "    while len(clusters)>K:\n",
    "\n",
    "        ####    FIND MINIMUM    ####\n",
    "\n",
    "        #mi = sys.float_info.max\n",
    "        mi = 100\n",
    "        for i in range(len(lst)):\n",
    "            for j in range(i+1):\n",
    "                if i != j:\n",
    "                    if lst[i][j] < mi:\n",
    "                        mi = lst[i][j]\n",
    "                        a,b = [i,j]\n",
    "        #print(a,b)\n",
    "        clusters[b].extend(clusters[a])\n",
    "        del clusters[a]\n",
    "        #print(clusters)\n",
    "\n",
    "        ####    MERGE ROWS  ####\n",
    "\n",
    "        for i in range(len(lst[b])):        #merge rows 'a' and 'b'\n",
    "            if min(lst[a][i],lst[b][i]) != 0:\n",
    "                lst[b][i] = min(lst[a][i],lst[b][i])\n",
    "        del lst[a]\n",
    "\n",
    "        ####    UPDATE ROWS     ####\n",
    "\n",
    "        for i in range(len(lst)):       #update all other rows\n",
    "            if i!=b:\n",
    "                lst[i][b] = min(lst[i][a],lst[i][b])\n",
    "            del lst[i][a]   #new statement\n",
    "\n",
    "        #print('dist matrix', lst)\n",
    "        #print('dist matrix 2', dist)\n",
    "        #print('clusters',clusters)\n",
    "        n = n+1\n",
    "\n",
    "    clusters.sort()\n",
    "    C_sort = []\n",
    "    for x in clusters:\n",
    "        x.sort()\n",
    "        C_sort.append(x)\n",
    "\n",
    "    print(C_sort)\n",
    "    #print(centers)\n",
    "\n",
    "    if correct != C_sort:\n",
    "        error = error + 1\n",
    "        print('L')\n",
    "    else:\n",
    "        print('W')\n",
    "\n",
    "Pe = error/total\n",
    "print(error)\n",
    "lnPe = math.log(Pe)\n",
    "print(total,lnPe)"
   ]
  }
 ],
 "metadata": {
  "accelerator": "GPU",
  "colab": {
   "gpuType": "T4",
   "provenance": []
  },
  "kernelspec": {
   "display_name": "ML_env",
   "language": "python",
   "name": "python3"
  },
  "language_info": {
   "codemirror_mode": {
    "name": "ipython",
    "version": 3
   },
   "file_extension": ".py",
   "mimetype": "text/x-python",
   "name": "python",
   "nbconvert_exporter": "python",
   "pygments_lexer": "ipython3",
   "version": "3.8.18"
  },
  "orig_nbformat": 4
 },
 "nbformat": 4,
 "nbformat_minor": 0
}
