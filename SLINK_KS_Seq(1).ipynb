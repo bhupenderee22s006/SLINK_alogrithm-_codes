{
  "cells": [
    {
      "cell_type": "code",
      "execution_count": null,
      "metadata": {
        "id": "JUGDWsLVcskJ"
      },
      "outputs": [],
      "source": [
        "import numpy as np"
      ]
    },
    {
      "cell_type": "code",
      "execution_count": null,
      "metadata": {
        "id": "yyNBTRUmcskK"
      },
      "outputs": [],
      "source": [
        "def initial_cdf(x1,n):\n",
        "\n",
        "    cdf_initial = []\n",
        "    x = np.arange(-5,8,0.1)\n",
        "    for a in x:\n",
        "        suma = sum([i < a for i in x1])/n\n",
        "        cdf_initial.append(suma)\n",
        "    return cdf_initial"
      ]
    },
    {
      "cell_type": "code",
      "execution_count": null,
      "metadata": {
        "id": "-1OJe_CgcskK"
      },
      "outputs": [],
      "source": [
        "def update_CDF(cdf_old,x1n,n):\n",
        "    cdf_new = []\n",
        "    x = np.arange(-5,8,0.1)\n",
        "    count = 0\n",
        "    for a in x:\n",
        "        suma = (((n-1)/n) * cdf_old[count]) + ((x1n < a)/n)\n",
        "        cdf_new.append(suma)\n",
        "        count = count + 1\n",
        "        #print(type(suma))\n",
        "    #print(count)\n",
        "    return cdf_new"
      ]
    },
    {
      "cell_type": "code",
      "execution_count": null,
      "metadata": {
        "id": "ph8l_HIDcskL"
      },
      "outputs": [],
      "source": [
        "def computeKS_seq(cdfx1,cdfx2,n):\n",
        "    x = np.arange(-5,8,0.1)\n",
        "    count = 0\n",
        "    dsum_updated = []\n",
        "    for j in x:\n",
        "        dsum_updated.append(abs(cdfx1[count] - cdfx2[count]))\n",
        "        count = count + 1\n",
        "    #print(dsum_updated)\n",
        "    return max(dsum_updated)"
      ]
    },
    {
      "cell_type": "code",
      "execution_count": null,
      "metadata": {
        "id": "dfLhiFS7cskM",
        "outputId": "711fa54c-9e41-4f80-d5df-87ed01cba828"
      },
      "outputs": [
        {
          "name": "stdout",
          "output_type": "stream",
          "text": [
            "[[0, 1, 2, 3, 4], [5, 6, 7, 8, 9], [10, 11, 12, 13, 14], [15, 16, 17, 18, 19], [20, 21, 22, 23, 24]] [[0, 0, 0, 0, 0], [1, 1, 1, 1, 1], [2, 2, 2, 2, 2], [3, 3, 3, 3, 3], [4, 4, 4, 4, 4]]\n"
          ]
        }
      ],
      "source": [
        "###########     Algorithm 1 KMED-SEQ: Clustering when K is known S    #########\n",
        "\n",
        "M = 25  # total no of streams\n",
        "K = 5   # no of clusters\n",
        "Mk = 5  # no of streams per cluster\n",
        "correct = [[(Mk*i)+j for j in range(Mk)]for i in range(K)]\n",
        "means = [[i for j in range(Mk)] for i in range(K)]\n",
        "\n",
        "print(correct,means)"
      ]
    },
    {
      "cell_type": "code",
      "execution_count": null,
      "metadata": {
        "id": "dYxLVkZ1yUlH",
        "outputId": "f0167b38-ced0-4c60-daf7-e104ce124b68"
      },
      "outputs": [
        {
          "name": "stdout",
          "output_type": "stream",
          "text": [
            "Minimum inter-cluster distance after iteration  2 : 0\n",
            "Minimum inter-cluster distance after iteration  44 : 0.2325581395348837\n",
            "Clusters after iteration  44 : [[0, 4, 1, 2, 3], [5, 6, 7, 8, 9], [10, 13, 11, 14, 12], [15, 18, 16, 17, 19], [20, 23, 24, 21, 22]]\n",
            "Errors 0\n",
            "Total 0\n",
            "[[0, 1, 2, 3, 4], [5, 6, 7, 8, 9], [10, 11, 12, 13, 14], [15, 16, 17, 18, 19], [20, 21, 22, 23, 24]]\n",
            "Minimum inter-cluster distance after iteration  2 : 0\n",
            "Minimum inter-cluster distance after iteration  37 : 0.24999999999999994\n",
            "Clusters after iteration  37 : [[0, 2, 1, 3, 4], [5, 8, 9, 6, 7], [10, 11, 12, 13, 14], [15, 19, 16, 17, 18], [20, 21, 23, 24, 22]]\n",
            "Errors 0\n",
            "Total 1\n",
            "[[0, 1, 2, 3, 4], [5, 6, 7, 8, 9], [10, 11, 12, 13, 14], [15, 16, 17, 18, 19], [20, 21, 22, 23, 24]]\n",
            "Minimum inter-cluster distance after iteration  2 : 0\n",
            "Minimum inter-cluster distance after iteration  29 : 0.2857142857142856\n",
            "Clusters after iteration  29 : [[0, 2, 4, 1, 3], [5, 6, 9, 7, 8], [10, 11, 12, 14, 13], [15, 16, 17, 19, 18], [20, 22, 23, 24, 21]]\n",
            "Errors 0\n",
            "Total 2\n",
            "[[0, 1, 2, 3, 4], [5, 6, 7, 8, 9], [10, 11, 12, 13, 14], [15, 16, 17, 18, 19], [20, 21, 22, 23, 24]]\n",
            "Minimum inter-cluster distance after iteration  2 : 0\n",
            "Minimum inter-cluster distance after iteration  32 : 0.2903225806451609\n",
            "Clusters after iteration  32 : [[0, 2, 1, 4, 3], [5, 7, 8, 9, 6], [10, 12, 13, 14, 15, 16, 17, 18, 19], [11], [20, 24, 22, 23, 21]]\n",
            "Errors 0\n",
            "Total 3\n",
            "[[0, 1, 2, 3, 4], [5, 6, 7, 8, 9], [10, 12, 13, 14, 15, 16, 17, 18, 19], [11], [20, 21, 22, 23, 24]]\n",
            "Minimum inter-cluster distance after iteration  2 : 0\n",
            "Minimum inter-cluster distance after iteration  28 : 0.29629629629629606\n",
            "Clusters after iteration  28 : [[0, 2, 3, 1, 4, 5, 8, 7, 9, 6], [10, 12, 14, 11], [13], [15, 16, 19, 18, 17], [20, 24, 21, 22, 23]]\n",
            "Errors 1\n",
            "Total 4\n",
            "[[0, 1, 2, 3, 4, 5, 6, 7, 8, 9], [10, 11, 12, 14], [13], [15, 16, 17, 18, 19], [20, 21, 22, 23, 24]]\n",
            "Minimum inter-cluster distance after iteration  2 : 0\n",
            "Minimum inter-cluster distance after iteration  40 : 0.2564102564102564\n",
            "Clusters after iteration  40 : [[0, 3, 4, 2, 1], [5, 6, 8, 9, 7], [10, 11, 13, 12, 14], [15, 19, 17, 16, 18], [20, 22, 21, 24, 23]]\n",
            "Errors 2\n",
            "Total 5\n",
            "[[0, 1, 2, 3, 4], [5, 6, 7, 8, 9], [10, 11, 12, 13, 14], [15, 16, 17, 18, 19], [20, 21, 22, 23, 24]]\n",
            "Minimum inter-cluster distance after iteration  2 : 0\n",
            "Minimum inter-cluster distance after iteration  30 : 0.2758620689655171\n",
            "Clusters after iteration  30 : [[0, 1, 2, 4, 3], [5, 6, 8, 7, 9], [10, 11, 13, 12, 14], [15, 16, 17, 19, 18, 20, 21, 22, 24], [23]]\n",
            "Errors 2\n",
            "Total 6\n",
            "[[0, 1, 2, 3, 4], [5, 6, 7, 8, 9], [10, 11, 12, 13, 14], [15, 16, 17, 18, 19, 20, 21, 22, 24], [23]]\n",
            "Minimum inter-cluster distance after iteration  2 : 0\n",
            "Minimum inter-cluster distance after iteration  22 : 0.3333333333333332\n",
            "Clusters after iteration  22 : [[0, 3, 1, 4, 2], [5, 8, 6, 9, 7], [10, 12, 13, 11, 14], [15, 18, 19, 17, 16], [20, 21, 23, 22, 24]]\n",
            "Errors 3\n",
            "Total 7\n",
            "[[0, 1, 2, 3, 4], [5, 6, 7, 8, 9], [10, 11, 12, 13, 14], [15, 16, 17, 18, 19], [20, 21, 22, 23, 24]]\n",
            "Minimum inter-cluster distance after iteration  2 : 0\n",
            "Minimum inter-cluster distance after iteration  29 : 0.28571428571428537\n",
            "Clusters after iteration  29 : [[0, 2, 1, 3, 4], [5, 6, 8, 9, 7], [10, 11, 12, 13, 14], [15, 17, 18, 19, 16], [20, 21, 24, 22, 23]]\n",
            "Errors 3\n",
            "Total 8\n",
            "[[0, 1, 2, 3, 4], [5, 6, 7, 8, 9], [10, 11, 12, 13, 14], [15, 16, 17, 18, 19], [20, 21, 22, 23, 24]]\n",
            "Minimum inter-cluster distance after iteration  2 : 0\n",
            "Minimum inter-cluster distance after iteration  26 : 0.31999999999999995\n",
            "Clusters after iteration  26 : [[0, 1, 2, 4, 3], [5, 8, 9, 6, 7], [10, 11, 13, 12, 14], [15, 17, 19, 18, 16], [20, 22, 23, 21, 24]]\n",
            "Errors 3\n",
            "Total 9\n",
            "[[0, 1, 2, 3, 4], [5, 6, 7, 8, 9], [10, 11, 12, 13, 14], [15, 16, 17, 18, 19], [20, 21, 22, 23, 24]]\n",
            "Minimum inter-cluster distance after iteration  2 : 0\n",
            "Minimum inter-cluster distance after iteration  45 : 0.22727272727272718\n",
            "Clusters after iteration  45 : [[0, 2, 4, 3, 5, 6, 8, 9, 7], [1], [10, 13, 12, 14, 11], [15, 18, 19, 17, 16], [20, 24, 22, 23, 21]]\n",
            "Errors 3\n",
            "Total 10\n",
            "[[0, 2, 3, 4, 5, 6, 7, 8, 9], [1], [10, 11, 12, 13, 14], [15, 16, 17, 18, 19], [20, 21, 22, 23, 24]]\n",
            "Minimum inter-cluster distance after iteration  2 : 0\n",
            "Minimum inter-cluster distance after iteration  36 : 0.25714285714285723\n",
            "Clusters after iteration  36 : [[0, 1, 3, 4, 2], [5, 8, 6, 9, 7], [10, 13, 11, 12, 14], [15, 16, 19, 18, 17], [20, 21, 23, 22, 24]]\n",
            "Errors 4\n",
            "Total 11\n",
            "[[0, 1, 2, 3, 4], [5, 6, 7, 8, 9], [10, 11, 12, 13, 14], [15, 16, 17, 18, 19], [20, 21, 22, 23, 24]]\n",
            "Minimum inter-cluster distance after iteration  2 : 0\n",
            "Minimum inter-cluster distance after iteration  36 : 0.2571428571428568\n",
            "Clusters after iteration  36 : [[0, 1, 3, 4, 2, 5, 6, 7, 8, 9], [10, 11, 12, 13, 14], [15, 17, 16, 18], [19], [20, 24, 21, 22, 23]]\n",
            "Errors 4\n",
            "Total 12\n",
            "[[0, 1, 2, 3, 4, 5, 6, 7, 8, 9], [10, 11, 12, 13, 14], [15, 16, 17, 18], [19], [20, 21, 22, 23, 24]]\n",
            "Minimum inter-cluster distance after iteration  2 : 0\n",
            "Minimum inter-cluster distance after iteration  37 : 0.24999999999999994\n",
            "Clusters after iteration  37 : [[0, 1, 2, 3, 4], [5, 7, 6, 8, 9], [10, 14, 12], [11, 13, 15, 17, 18, 16, 19], [20, 23, 21, 24, 22]]\n",
            "Errors 5\n",
            "Total 13\n",
            "[[0, 1, 2, 3, 4], [5, 6, 7, 8, 9], [10, 12, 14], [11, 13, 15, 16, 17, 18, 19], [20, 21, 22, 23, 24]]\n",
            "Minimum inter-cluster distance after iteration  2 : 0\n",
            "Minimum inter-cluster distance after iteration  42 : 0.24390243902439035\n",
            "Clusters after iteration  42 : [[0, 2, 4, 3, 1], [5, 7, 9, 8, 6], [10, 13, 11, 14, 12], [15, 16, 17, 18, 19], [20, 22, 23, 24, 21]]\n",
            "Errors 6\n",
            "Total 14\n",
            "[[0, 1, 2, 3, 4], [5, 6, 7, 8, 9], [10, 11, 12, 13, 14], [15, 16, 17, 18, 19], [20, 21, 22, 23, 24]]\n",
            "Minimum inter-cluster distance after iteration  2 : 0\n",
            "Minimum inter-cluster distance after iteration  33 : 0.28124999999999944\n",
            "Clusters after iteration  33 : [[0, 2, 1, 4, 3], [5, 8, 6, 7, 9], [10, 11, 12, 14], [13, 15, 16, 17, 18, 19], [20, 21, 22, 23, 24]]\n",
            "Errors 6\n",
            "Total 15\n",
            "[[0, 1, 2, 3, 4], [5, 6, 7, 8, 9], [10, 11, 12, 14], [13, 15, 16, 17, 18, 19], [20, 21, 22, 23, 24]]\n",
            "Minimum inter-cluster distance after iteration  2 : 0\n",
            "Minimum inter-cluster distance after iteration  46 : 0.2222222222222222\n",
            "Clusters after iteration  46 : [[0, 1, 4, 3, 2, 7, 8], [5, 9, 6], [10, 14, 12, 13, 11], [15, 16, 17, 18, 19], [20, 22, 24, 21, 23]]\n",
            "Errors 7\n",
            "Total 16\n",
            "[[0, 1, 2, 3, 4, 7, 8], [5, 6, 9], [10, 11, 12, 13, 14], [15, 16, 17, 18, 19], [20, 21, 22, 23, 24]]\n",
            "Minimum inter-cluster distance after iteration  2 : 0\n",
            "Minimum inter-cluster distance after iteration  33 : 0.2812499999999998\n",
            "Clusters after iteration  33 : [[0, 1, 2, 3, 4], [5, 8, 6, 7, 9], [10, 13, 14, 11, 12], [15, 18, 19, 16, 17], [20, 21, 23, 24, 22]]\n",
            "Errors 8\n",
            "Total 17\n",
            "[[0, 1, 2, 3, 4], [5, 6, 7, 8, 9], [10, 11, 12, 13, 14], [15, 16, 17, 18, 19], [20, 21, 22, 23, 24]]\n",
            "Minimum inter-cluster distance after iteration  2 : 0\n",
            "Minimum inter-cluster distance after iteration  34 : 0.2727272727272728\n",
            "Clusters after iteration  34 : [[0, 1, 2, 3, 4], [5, 7, 8, 6, 9], [10, 12, 11, 13, 14], [15, 18, 17, 16, 19], [20, 21, 23, 22, 24]]\n",
            "Errors 8\n",
            "Total 18\n",
            "[[0, 1, 2, 3, 4], [5, 6, 7, 8, 9], [10, 11, 12, 13, 14], [15, 16, 17, 18, 19], [20, 21, 22, 23, 24]]\n",
            "Minimum inter-cluster distance after iteration  2 : 0\n",
            "Minimum inter-cluster distance after iteration  42 : 0.2439024390243904\n",
            "Clusters after iteration  42 : [[0, 1, 2, 3, 4], [5, 6, 7, 8, 9], [10, 14, 11, 13, 12], [15, 17, 19, 18, 16], [20, 21, 22, 23, 24]]\n",
            "Errors 8\n",
            "Total 19\n",
            "[[0, 1, 2, 3, 4], [5, 6, 7, 8, 9], [10, 11, 12, 13, 14], [15, 16, 17, 18, 19], [20, 21, 22, 23, 24]]\n",
            "Minimum inter-cluster distance after iteration  2 : 0\n",
            "Minimum inter-cluster distance after iteration  52 : 0.2156862745098038\n",
            "Clusters after iteration  52 : [[0, 1, 3, 2, 4], [5, 6, 8, 7, 9], [10, 11, 12, 13, 14], [15, 17, 18, 16, 19], [20, 21, 23, 24, 22]]\n",
            "Errors 8\n",
            "Total 20\n",
            "[[0, 1, 2, 3, 4], [5, 6, 7, 8, 9], [10, 11, 12, 13, 14], [15, 16, 17, 18, 19], [20, 21, 22, 23, 24]]\n",
            "Minimum inter-cluster distance after iteration  2 : 0\n",
            "Minimum inter-cluster distance after iteration  34 : 0.2727272727272727\n",
            "Clusters after iteration  34 : [[0, 2, 4, 1, 3], [5, 6, 7, 8, 9], [10, 11, 13], [12, 14, 15, 16, 18, 19, 17], [20, 21, 22, 24, 23]]\n",
            "Errors 8\n",
            "Total 21\n",
            "[[0, 1, 2, 3, 4], [5, 6, 7, 8, 9], [10, 11, 13], [12, 14, 15, 16, 17, 18, 19], [20, 21, 22, 23, 24]]\n",
            "Minimum inter-cluster distance after iteration  2 : 0\n",
            "Minimum inter-cluster distance after iteration  29 : 0.2857142857142855\n",
            "Clusters after iteration  29 : [[0, 3, 1, 4, 2], [5, 8, 7, 6, 9], [10, 14, 11, 12, 13], [15, 17, 18, 16, 19], [20, 23, 22, 24, 21]]\n",
            "Errors 9\n",
            "Total 22\n",
            "[[0, 1, 2, 3, 4], [5, 6, 7, 8, 9], [10, 11, 12, 13, 14], [15, 16, 17, 18, 19], [20, 21, 22, 23, 24]]\n",
            "Minimum inter-cluster distance after iteration  2 : 0\n",
            "Minimum inter-cluster distance after iteration  46 : 0.2222222222222222\n",
            "Clusters after iteration  46 : [[0, 1, 2, 3, 4], [5, 9, 6, 7, 8], [10, 14, 12, 11, 13], [15, 18, 16, 17, 19], [20, 21, 22, 23, 24]]\n",
            "Errors 9\n",
            "Total 23\n",
            "[[0, 1, 2, 3, 4], [5, 6, 7, 8, 9], [10, 11, 12, 13, 14], [15, 16, 17, 18, 19], [20, 21, 22, 23, 24]]\n",
            "Minimum inter-cluster distance after iteration  2 : 0\n",
            "Minimum inter-cluster distance after iteration  30 : 0.27586206896551724\n",
            "Clusters after iteration  30 : [[0, 2, 4, 3, 1], [5, 7, 8, 9, 6], [10, 11, 12, 14, 13], [15, 16, 17, 18, 19], [20, 23, 21, 24, 22]]\n",
            "Errors 9\n",
            "Total 24\n",
            "[[0, 1, 2, 3, 4], [5, 6, 7, 8, 9], [10, 11, 12, 13, 14], [15, 16, 17, 18, 19], [20, 21, 22, 23, 24]]\n",
            "Minimum inter-cluster distance after iteration  2 : 0\n",
            "Minimum inter-cluster distance after iteration  29 : 0.2857142857142857\n",
            "Clusters after iteration  29 : [[0, 1, 2, 4, 3], [5, 8, 9, 7, 6], [10, 12, 14, 11, 13, 17], [15, 16, 19, 18], [20, 24, 23, 21, 22]]\n",
            "Errors 9\n",
            "Total 25\n",
            "[[0, 1, 2, 3, 4], [5, 6, 7, 8, 9], [10, 11, 12, 13, 14, 17], [15, 16, 18, 19], [20, 21, 22, 23, 24]]\n",
            "26 0.38461538461538464 -0.9555114450274363\n",
            "35.42307692307692\n"
          ]
        }
      ],
      "source": [
        "import math\n",
        "iter_sum = 0\n",
        "error = 0\n",
        "total = 0\n",
        "const = 1.5\n",
        "while error < 10:\n",
        "    ##############  INITIALISATION  ################\n",
        "    # cluster indices 0 to M-1 and an empty list lst\n",
        "    clusters = [[i] for i in range(M)]\n",
        "    lst = [[] for i in range(M)]\n",
        "    cdf_lst = [[] for i in range(M)]\n",
        "    #print(1,cdf_lst)\n",
        "\n",
        "    # generate first 2 samples to initialize MMD estimate (KSD estimate)\n",
        "    nn = 2\n",
        "    X = np.asarray([np.random.normal(means[j][i],1,nn) for j in range(Mk) for i in range(K)])\n",
        "\n",
        "    ####    Calculating initial CDFs    ####\n",
        "\n",
        "    for i in range(M):\n",
        "        cdf_lst[i] = initial_cdf(X[i,:],nn)\n",
        "    #print('Initial cdf',cdf_lst)\n",
        "\n",
        "    ####    Calculating initial KSDs    ####\n",
        "    lst_dseq = np.zeros((M,M))\n",
        "    for i in range(1,M):\n",
        "        for j in range(i):\n",
        "            lst_dseq[i][j] = computeKS_seq(cdf_lst[i],cdf_lst[j],nn)\n",
        "            lst_dseq[j][i] = lst_dseq[i][j]\n",
        "\n",
        "    ####    Calculating initial MMDs between each pair of sequences    ####\n",
        "\n",
        "    # lst_dseq = np.zeros((M,M))\n",
        "    # for i in range(1,M):\n",
        "    #     for j in range(i):\n",
        "    #         lst_dseq[i][j] = computeMMD(X[i,:],X[j,:],nn)\n",
        "    #         lst_dseq[j][i] = lst_dseq[i][j]\n",
        "    #print(lst_fixed)\n",
        "\n",
        "\n",
        "\n",
        "    ##### TEST-STATISTIC Tn INITIALISATION #####\n",
        "    Tn = 0\n",
        "    #print(np.min(lst_index,axis = 0))               #it will a column matrix of all 0\n",
        "    #print(np.min(lst_index,axis = 1))                #it will a row matrix of all 0\n",
        "\n",
        "    #minval = np.min(lst_fixed[np.nonzero(lst_fixed)])         #will give you the non zero min value of the matrix\n",
        "    #print(minval)\n",
        "\n",
        "    #[min_i,min_j] = np.where(lst_fixed==minval)       #will give the index of the  min value of the matrix\n",
        "    #print([min_i,min_j])\n",
        "\n",
        "    #Tn = minval    #minimum inter-cluster distance\n",
        "    print('Minimum inter-cluster distance after iteration ', nn, ':', Tn)\n",
        "\n",
        "    while Tn < (const/(nn**0.5)):\n",
        "        nn = nn + 1\n",
        "\n",
        "        lst_dc = [[] for i in range(M)]\n",
        "        lst_dc = [[lst_dseq[i][j] for j in range(i+1)] for i in range(M)]\n",
        "        for i in range(M):\n",
        "            for j in range(M):\n",
        "                if i<j:\n",
        "                    lst_dc[i].append(lst_dc[j][i])\n",
        "        #print(lst_new)\n",
        "        #####\n",
        "        # Code for SLINK\n",
        "        clusters = [[i] for i in range(M)]\n",
        "        # Merge closest clusters till number of clusters is equal to K\n",
        "        while len(clusters)>K:\n",
        "\n",
        "            ####    FIND MINIMUM    ####\n",
        "\n",
        "            #mi = sys.float_info.max\n",
        "            mi = 100\n",
        "            for i in range(len(lst_dc)):\n",
        "                for j in range(i+1):\n",
        "                    if i != j:\n",
        "                        if lst_dc[i][j] < mi:\n",
        "                            mi = lst_dc[i][j]\n",
        "                            a,b = [i,j]\n",
        "            #print(\"the values of a and b are :\", a,b)\n",
        "            clusters[b].extend(clusters[a])  #add the elements of a to b at the end\n",
        "            del clusters[a]                   #delete cluster a\n",
        "            #print(clusters)\n",
        "\n",
        "            ####    MERGE ROWS  ####\n",
        "            #print(\"the lst[b] is \",lst[b])\n",
        "            #print(\"the lst[a] is \",lst[a])\n",
        "            for i in range(len(lst_dc[b])):        #merge rows 'a' and 'b'\n",
        "                if min(lst_dc[a][i],lst_dc[b][i]) != 0:\n",
        "                    lst_dc[b][i] = min(lst_dc[a][i],lst_dc[b][i])\n",
        "            del lst_dc[a]\n",
        "\n",
        "            ####    UPDATE ROWS     ####\n",
        "            for i in range(len(lst_dc)):       #update all other rows\n",
        "                if i!=b:\n",
        "                    lst_dc[i][b] = min(lst_dc[i][a],lst_dc[i][b])\n",
        "                del lst_dc[i][a]   #new statement\n",
        "\n",
        "            #print('dist matrix', lst)\n",
        "            #print('dist matrix 2', dist)\n",
        "            #print('clusters',clusters)\n",
        "\n",
        "        #print('Clusters after iteration ', nn, ':', clusters)\n",
        "\n",
        "        mi = 100\n",
        "        for i in range(len(lst_dc)):\n",
        "            for j in range(i+1):\n",
        "                if i != j:\n",
        "                    if lst_dc[i][j] < mi:\n",
        "                        mi = lst_dc[i][j]\n",
        "\n",
        "        #print(lst_dc)\n",
        "        Tn = mi\n",
        "        #print(nn, Tn)\n",
        "\n",
        "        # generate one more sample for each data stream\n",
        "        z = np.asarray([np.random.normal(means[j][i],1,1) for j in range(Mk) for i in range(K)])  #creates a 1 dim array with means and SD 1\n",
        "        X = np.append(X,z,axis=1)       # new samples   #axis =1 means it will add the values of z along column wise\n",
        "\n",
        "        # update CDFs\n",
        "\n",
        "        for i in range(M):\n",
        "            cdf_lst[i] = update_CDF(cdf_lst[i],z[i][0],nn)\n",
        "        #print('Updated cdfs',type(cdf_lst))\n",
        "\n",
        "        #Update MMDs between each pair of data streams\n",
        "        lst_dseq_1=np.zeros((M,M))\n",
        "        for i in range(M):\n",
        "            for j in range(i):\n",
        "                lst_dseq_1[i,j] = computeKS_seq(cdf_lst[i],cdf_lst[j],nn)\n",
        "                #lst_dseq_1[i,j] = math.sqrt(((lst_dseq[i][j]*(nn-1)/nn)**2) + update(X[i,:],X[j,:],nn))      # updated distances\n",
        "                lst_dseq_1[j,i]=lst_dseq_1[i,j]\n",
        "        for i in range(M):\n",
        "            for j in range(M):\n",
        "                lst_dseq[i,j] =lst_dseq_1[i,j]\n",
        "\n",
        "\n",
        "\n",
        "    print('Minimum inter-cluster distance after iteration ', nn, ':', Tn)\n",
        "    print('Clusters after iteration ', nn, ':', clusters)\n",
        "    print('Errors', error)\n",
        "    print('Total', total)\n",
        "\n",
        "    # Check if clustering is correct and update errors and number of samples taken\n",
        "    iter_sum += nn\n",
        "    # CHECKING IF IT'S CORRECT\n",
        "    clusters.sort()\n",
        "    C_sort = []\n",
        "    for x in clusters:\n",
        "        x.sort()\n",
        "        C_sort.append(x)\n",
        "\n",
        "    if C_sort != correct:\n",
        "        error = error + 1\n",
        "    total = total + 1\n",
        "\n",
        "    print(C_sort)\n",
        "\n",
        "\n",
        "Pe = error/total\n",
        "lnPe = math.log(Pe)\n",
        "print(total,Pe,lnPe)\n",
        "print(iter_sum / total)"
      ]
    },
    {
      "cell_type": "code",
      "execution_count": null,
      "metadata": {
        "id": "E-9ut2KWcskN",
        "outputId": "dec7c94d-083b-4bc2-f095-d6396547396c"
      },
      "outputs": [
        {
          "name": "stdout",
          "output_type": "stream",
          "text": [
            "0.25\n"
          ]
        }
      ],
      "source": [
        "cdf_lst = [[] for i in range(M)]\n",
        "#print(1,cdf_lst)\n",
        "\n",
        "# generate first 2 samples to initialize MMD estimate (KSD estimate)\n",
        "nn = 2\n",
        "X = np.asarray([np.random.normal(means[j][i],1,nn) for j in range(Mk) for i in range(K)])\n",
        "\n",
        "####    Calculating initial CDFs    ####\n",
        "\n",
        "for i in range(M):\n",
        "    cdf_lst[i] = initial_cdf(X[i,:],nn)\n",
        "#print('Initial cdf',len(cdf_lst))\n",
        "\n",
        "print(computeKS_seq(cdf_lst[0],cdf_lst[1],nn))\n",
        "nn = nn + 1\n",
        "z = np.asarray([np.random.normal(means[j][i],1,1) for j in range(Mk) for i in range(K)])\n",
        "X = np.append(X,z,axis=1)       # new samples   #axis =1 means it will add the values of z along column wise\n",
        "\n"
      ]
    },
    {
      "cell_type": "code",
      "execution_count": null,
      "metadata": {
        "id": "GO1NfcIrcskN",
        "outputId": "2e782b23-206d-4608-9d34-6d399ef4a6fe"
      },
      "outputs": [
        {
          "name": "stdout",
          "output_type": "stream",
          "text": [
            "0.11111111111111112\n"
          ]
        }
      ],
      "source": [
        "# update CDFs\n",
        "\n",
        "cdf_lst[0] = update_CDF(cdf_lst[0],z[0][0],nn)\n",
        "#print('Updated cdf 0',cdf_lst[0])\n",
        "cdf_lst[1] = update_CDF(cdf_lst[1],z[1][0],nn)\n",
        "#print('Updated cdf 1',cdf_lst[1])\n",
        "print(computeKS_seq(cdf_lst[0],cdf_lst[1],nn))"
      ]
    },
    {
      "cell_type": "code",
      "execution_count": null,
      "metadata": {
        "id": "AMtR2w_ycskO",
        "outputId": "32087f41-87cf-4db9-9871-1ca6aed26a79"
      },
      "outputs": [
        {
          "name": "stdout",
          "output_type": "stream",
          "text": [
            "0.125\n",
            "3\n"
          ]
        }
      ],
      "source": [
        "print(Tn)\n",
        "print(nn)"
      ]
    },
    {
      "cell_type": "code",
      "execution_count": null,
      "metadata": {
        "id": "GYZ0VJTWcskO",
        "outputId": "3591ac32-2c99-430c-b337-bba7e4b2c1eb"
      },
      "outputs": [
        {
          "name": "stdout",
          "output_type": "stream",
          "text": [
            "[0.0, 0.0, 0.0, 0.0, 0.0, 0.0, 0.0, 0.0, 0.0, 0.0, 0.0, 0.0, 0.0, 0.0, 0.0, 0.0, 0.0, 0.0, 0.0, 0.0, 0.0, 0.0, 0.0, 0.0, 0.0, 0.0, 0.0, 0.0, 0.0, 0.0, 0.0, 0.0, 0.0, 0.0, 0.0, 0.0, 0.0, 0.0, 0.0, 0.0, 0.0, 0.0, 0.0, 0.0, 0.0, 0.0, 0.3333333333333333, 0.3333333333333333, 0.3333333333333333, 0.3333333333333333, 0.3333333333333333, 0.3333333333333333, 0.3333333333333333, 0.3333333333333333, 0.3333333333333333, 0.6666666666666666, 0.6666666666666666, 0.6666666666666666, 0.6666666666666666, 1.0, 1.0, 1.0, 1.0, 1.0, 1.0, 1.0, 1.0, 1.0, 1.0, 1.0, 1.0, 1.0, 1.0, 1.0, 1.0, 1.0, 1.0, 1.0, 1.0, 1.0, 1.0, 1.0, 1.0, 1.0, 1.0, 1.0, 1.0, 1.0, 1.0, 1.0, 1.0, 1.0, 1.0, 1.0, 1.0, 1.0, 1.0, 1.0, 1.0, 1.0, 1.0, 1.0, 1.0, 1.0, 1.0, 1.0, 1.0, 1.0, 1.0, 1.0, 1.0, 1.0, 1.0, 1.0, 1.0, 1.0, 1.0, 1.0, 1.0, 1.0, 1.0, 1.0, 1.0, 1.0, 1.0, 1.0, 1.0, 1.0, 1.0, 1.0]\n"
          ]
        }
      ],
      "source": [
        "print(cdf_lst[0])"
      ]
    },
    {
      "cell_type": "code",
      "execution_count": null,
      "metadata": {
        "id": "SPQ_BthAcskP"
      },
      "outputs": [],
      "source": []
    }
  ],
  "metadata": {
    "kernelspec": {
      "display_name": "Python 3.10.0 64-bit",
      "language": "python",
      "name": "python3"
    },
    "language_info": {
      "codemirror_mode": {
        "name": "ipython",
        "version": 3
      },
      "file_extension": ".py",
      "mimetype": "text/x-python",
      "name": "python",
      "nbconvert_exporter": "python",
      "pygments_lexer": "ipython3",
      "version": "3.10.0"
    },
    "orig_nbformat": 4,
    "vscode": {
      "interpreter": {
        "hash": "fbc768028c3e6ead51d9a200ddcb2ec858ae62844dcd1994729a8279be9b48f2"
      }
    },
    "colab": {
      "provenance": []
    }
  },
  "nbformat": 4,
  "nbformat_minor": 0
}