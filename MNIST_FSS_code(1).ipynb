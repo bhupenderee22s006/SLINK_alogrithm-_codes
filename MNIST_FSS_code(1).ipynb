{
 "cells": [
  {
   "cell_type": "code",
   "execution_count": 1,
   "metadata": {},
   "outputs": [],
   "source": [
    "def man(a,b):\n",
    "    return abs(a-b)"
   ]
  },
  {
   "cell_type": "code",
   "execution_count": 2,
   "metadata": {},
   "outputs": [],
   "source": [
    "import numpy as np\n",
    "import math\n",
    "import sys"
   ]
  },
  {
   "cell_type": "code",
   "execution_count": 3,
   "metadata": {},
   "outputs": [],
   "source": [
    "\n",
    "def kernel(x,y):\n",
    "    x = np.array(x)\n",
    "    y = np.array(y)\n",
    "    #print(np.linalg.norm(x-y))\n",
    "    return math.exp((-np.linalg.norm(x-y)**2)/(2*1000000))"
   ]
  },
  {
   "cell_type": "code",
   "execution_count": 4,
   "metadata": {},
   "outputs": [],
   "source": [
    "def computeKS(a,b,N):\n",
    "\n",
    "    dsum = []\n",
    "    x = np.arange(-5,8,0.1)\n",
    "    for j in x:\n",
    "        suma = sum([i < j for i in a])\n",
    "        sumb = sum([i < j for i in b])\n",
    "        dsum.append(abs(suma - sumb)/N)\n",
    "        #print(max(dsum))\n",
    "    return max(dsum)"
   ]
  },
  {
   "cell_type": "code",
   "execution_count": 5,
   "metadata": {},
   "outputs": [],
   "source": [
    "# def computeMMD(x,y,N):\n",
    "#     g = [[kernel(x[:,i], x[:,j]) + kernel(y[:,i],y[:,j]) - (2*kernel(x[:,i], y[:,j])) for j in range(N)] for i in range(N)]\n",
    "#     #print(kernel(x[:,1], y[:,2]))\n",
    "#     print('MMD function done')\n",
    "#     return math.sqrt((sum(map(sum,g)) / N**2))\n",
    "\n",
    "def computeMMD(x, y, N,i,j):\n",
    "    # Convert x and y to numpy arrays\n",
    "    x = np.array(x)\n",
    "    y = np.array(y)\n",
    "    x = x[:, :N]\n",
    "    y = y[:, :N]\n",
    "\n",
    "\n",
    "    # Kxx = np.exp(-np.linalg.norm(x[:, :, None]-x[:, None, :], axis=0)**2/(2*1000000))\n",
    "    # Kyy = np.exp(-np.linalg.norm(y[:, :, None]-y[:, None, :], axis=0)**2/(2*1000000))\n",
    "    # Kxy = np.exp(-np.linalg.norm(x[:, :, None]-y[:, None, :], axis=0)**2/(2*1000000))\n",
    "\n",
    "    \n",
    "    # Compute kernel matrices using broadcasting\n",
    "    # Kxx = kernel(x[:, None], x[None, :])  # Kernel matrix for x with itself\n",
    "    # Kyy = kernel(y[:, None], y[None, :])  # Kernel matrix for y with itself\n",
    "    # Kxy = kernel(x[:, None], y[None, :])  # Kernel matrix for x with y\n",
    "    #print('MMD function done')\n",
    "\n",
    "    # Calculate the MMD using vectorized operations\n",
    "    # MMD_squared = (np.sum(Kxx) + np.sum(Kyy) - 2 * np.sum(Kxy)) / (N**2)\n",
    "    MMD_squared = (np.sum(np.exp(-np.linalg.norm(x[:, :, None]-x[:, None, :], axis=0)**2/(2*1000000))) + \n",
    "                    np.sum(np.exp(-np.linalg.norm(y[:, :, None]-y[:, None, :], axis=0)**2/(2*1000000))) - \n",
    "                    2 * np.sum(np.exp(-np.linalg.norm(x[:, :, None]-y[:, None, :], axis=0)**2/(2*1000000)))) / (N**2)\n",
    "    #print(f'MMD_squared = {MMD_squared}')\n",
    "    MMD_squared_abs = abs(MMD_squared)\n",
    "    # print(np.linalg.norm(x[:, :, None]-x[:, None, :], axis=0)**2, np.linalg.norm(y[:, :, None]-y[:, None, :], axis=0)**2, np.linalg.norm(x[:, :, None]-y[:, None, :], axis=0)**2)\n",
    "    # print(i,j,MMD_squared)\n",
    "    return np.sqrt(MMD_squared_abs)"
   ]
  },
  {
   "cell_type": "code",
   "execution_count": 6,
   "metadata": {},
   "outputs": [],
   "source": [
    "def update(x, y, n):\n",
    "    # Convert x and y to numpy arrays\n",
    "    x = np.array(x)\n",
    "    y = np.array(y)\n",
    "\n",
    "    # Calculate the last element in x and y\n",
    "    xn1 = x[n-1]\n",
    "    yn1 = y[n-1]\n",
    "\n",
    "    # Compute kernels for all elements with the last element\n",
    "    kernel_xn1 = kernel(x[:n], xn1)  # Kernel values between all elements in x and xn1\n",
    "    kernel_yn1 = kernel(y[:n], yn1)  # Kernel values between all elements in y and yn1\n",
    "    kernel_xyn1 = kernel(x[:n], yn1)  # Kernel values between all elements in x and yn1\n",
    "\n",
    "    # Sum the results for the first part\n",
    "    sum1 = np.sum(kernel_xn1 + kernel_yn1 - 2 * kernel_xyn1)\n",
    "\n",
    "    # Compute kernels for the last element in x and y with all elements up to n-1\n",
    "    kernel_xn1_m = kernel(xn1, x[:n-1])  # Kernel values between xn1 and all elements in x[:n-1]\n",
    "    kernel_yn1_m = kernel(yn1, y[:n-1])  # Kernel values between yn1 and all elements in y[:n-1]\n",
    "    kernel_xyn1_m = kernel(xn1, y[:n-1])  # Kernel values between xn1 and all elements in y[:n-1]\n",
    "\n",
    "    # Sum the results for the second part\n",
    "    sum2 = np.sum(kernel_xn1_m + kernel_yn1_m - 2 * kernel_xyn1_m)\n",
    "\n",
    "    # Calculate the final result\n",
    "    result = (sum1 + sum2) / (n**2)\n",
    "    \n",
    "    return result\n"
   ]
  },
  {
   "cell_type": "code",
   "execution_count": 7,
   "metadata": {},
   "outputs": [
    {
     "name": "stdout",
     "output_type": "stream",
     "text": [
      "[[0, 1, 2, 3, 4], [5, 6, 7, 8, 9], [10, 11, 12, 13, 14], [15, 16, 17, 18, 19], [20, 21, 22, 23, 24], [25, 26, 27, 28, 29], [30, 31, 32, 33, 34], [35, 36, 37, 38, 39], [40, 41, 42, 43, 44], [45, 46, 47, 48, 49]]\n"
     ]
    }
   ],
   "source": [
    "#lst = [[0,10,6,5,9],[10,0,8,7,2],[6,8,0,1,4],[5,7,1,0,3],[9,2,4,3,0]]\n",
    "import random\n",
    "S = 50      # total number of sequences\n",
    "M = 5      # number of sequences per cluster\n",
    "K = 10      # number of clusters\n",
    "means = [i for i in range(K) for j in range(M)]\n",
    "\n",
    "correct = [[(M*i)+j for j in range(M)]for i in range(K)]\n",
    "Nvec = [20, 40, 60, 80, 100, 120, 140]  # Number of elements in each stream\n",
    "print(correct)"
   ]
  },
  {
   "cell_type": "code",
   "execution_count": 8,
   "metadata": {},
   "outputs": [
    {
     "ename": "FileNotFoundError",
     "evalue": "[Errno 2] No such file or directory: 'MNIST_50_arms_10_clusters_norm1.pkl'",
     "output_type": "error",
     "traceback": [
      "\u001b[1;31m---------------------------------------------------------------------------\u001b[0m",
      "\u001b[1;31mFileNotFoundError\u001b[0m                         Traceback (most recent call last)",
      "Cell \u001b[1;32mIn[8], line 2\u001b[0m\n\u001b[0;32m      1\u001b[0m \u001b[38;5;28;01mimport\u001b[39;00m \u001b[38;5;21;01mpickle\u001b[39;00m\n\u001b[1;32m----> 2\u001b[0m \u001b[38;5;28;01mwith\u001b[39;00m \u001b[38;5;28;43mopen\u001b[39;49m\u001b[43m(\u001b[49m\u001b[38;5;124;43m'\u001b[39;49m\u001b[38;5;124;43mMNIST_50_arms_10_clusters_norm1.pkl\u001b[39;49m\u001b[38;5;124;43m'\u001b[39;49m\u001b[43m,\u001b[49m\u001b[43m \u001b[49m\u001b[38;5;124;43m'\u001b[39;49m\u001b[38;5;124;43mrb\u001b[39;49m\u001b[38;5;124;43m'\u001b[39;49m\u001b[43m)\u001b[49m \u001b[38;5;28;01mas\u001b[39;00m pkl_file:\n\u001b[0;32m      3\u001b[0m     y_all \u001b[38;5;241m=\u001b[39m pickle\u001b[38;5;241m.\u001b[39mload(pkl_file)\n",
      "File \u001b[1;32mc:\\Users\\ASUS\\anaconda3\\envs\\ML_env\\lib\\site-packages\\IPython\\core\\interactiveshell.py:284\u001b[0m, in \u001b[0;36m_modified_open\u001b[1;34m(file, *args, **kwargs)\u001b[0m\n\u001b[0;32m    277\u001b[0m \u001b[38;5;28;01mif\u001b[39;00m file \u001b[38;5;129;01min\u001b[39;00m {\u001b[38;5;241m0\u001b[39m, \u001b[38;5;241m1\u001b[39m, \u001b[38;5;241m2\u001b[39m}:\n\u001b[0;32m    278\u001b[0m     \u001b[38;5;28;01mraise\u001b[39;00m \u001b[38;5;167;01mValueError\u001b[39;00m(\n\u001b[0;32m    279\u001b[0m         \u001b[38;5;124mf\u001b[39m\u001b[38;5;124m\"\u001b[39m\u001b[38;5;124mIPython won\u001b[39m\u001b[38;5;124m'\u001b[39m\u001b[38;5;124mt let you open fd=\u001b[39m\u001b[38;5;132;01m{\u001b[39;00mfile\u001b[38;5;132;01m}\u001b[39;00m\u001b[38;5;124m by default \u001b[39m\u001b[38;5;124m\"\u001b[39m\n\u001b[0;32m    280\u001b[0m         \u001b[38;5;124m\"\u001b[39m\u001b[38;5;124mas it is likely to crash IPython. If you know what you are doing, \u001b[39m\u001b[38;5;124m\"\u001b[39m\n\u001b[0;32m    281\u001b[0m         \u001b[38;5;124m\"\u001b[39m\u001b[38;5;124myou can use builtins\u001b[39m\u001b[38;5;124m'\u001b[39m\u001b[38;5;124m open.\u001b[39m\u001b[38;5;124m\"\u001b[39m\n\u001b[0;32m    282\u001b[0m     )\n\u001b[1;32m--> 284\u001b[0m \u001b[38;5;28;01mreturn\u001b[39;00m \u001b[43mio_open\u001b[49m\u001b[43m(\u001b[49m\u001b[43mfile\u001b[49m\u001b[43m,\u001b[49m\u001b[43m \u001b[49m\u001b[38;5;241;43m*\u001b[39;49m\u001b[43margs\u001b[49m\u001b[43m,\u001b[49m\u001b[43m \u001b[49m\u001b[38;5;241;43m*\u001b[39;49m\u001b[38;5;241;43m*\u001b[39;49m\u001b[43mkwargs\u001b[49m\u001b[43m)\u001b[49m\n",
      "\u001b[1;31mFileNotFoundError\u001b[0m: [Errno 2] No such file or directory: 'MNIST_50_arms_10_clusters_norm1.pkl'"
     ]
    }
   ],
   "source": [
    "import pickle\n",
    "with open('MNIST_50_arms_10_clusters_norm1.pkl', 'rb') as pkl_file:\n",
    "    y_all = pickle.load(pkl_file)"
   ]
  },
  {
   "cell_type": "code",
   "execution_count": null,
   "metadata": {},
   "outputs": [
    {
     "name": "stdout",
     "output_type": "stream",
     "text": [
      "50\n",
      "(10, 1000)\n"
     ]
    }
   ],
   "source": [
    "print(len(y_all))\n",
    "print(y_all[0].shape)"
   ]
  },
  {
   "cell_type": "code",
   "execution_count": null,
   "metadata": {},
   "outputs": [],
   "source": [
    "def wrong_streams_ratio(C_sort, correct, S=50):\n",
    "    K = len(correct)\n",
    "    # S = 50 # hard coded\n",
    "    num_wrong_streams = 0\n",
    "    for k in range(K):\n",
    "        wrong_streams_k = np.setdiff1d(np.array(C_sort[k]), np.array(correct[k]))\n",
    "        num_wrong_streams = num_wrong_streams + len(wrong_streams_k)\n",
    "    return num_wrong_streams/S\n"
   ]
  },
  {
   "cell_type": "code",
   "execution_count": null,
   "metadata": {},
   "outputs": [],
   "source": [
    "# correct = [[1, 2, 3], \n",
    "#            [4, 5, 6], \n",
    "#            [7, 8, 9]]\n",
    "\n",
    "# C_sort = [[1, 2], \n",
    "#           [3, 4, 5, 6], \n",
    "#           [7, 8, 9]]\n",
    "\n",
    "# print(wrong_clustering_ratio(C_sort, correct, 9))"
   ]
  },
  {
   "cell_type": "code",
   "execution_count": null,
   "metadata": {},
   "outputs": [
    {
     "name": "stdout",
     "output_type": "stream",
     "text": [
      "[468 130 222 312 808 499 927 642 955 299 153 134 885  19 183  35 553 116\n",
      " 460 721 619 967 586 851 673 177 749 577 829 736  99 264 798 461 893 235\n",
      " 821 661 756 592 616  71 276 879 355 709 346  38 663 203 294 209 175 770\n",
      " 843 464 578 394 266 831 631 427 123 496 758 677 531 685 827 152 101 698\n",
      " 855 199 928 538 193 914 794 933 269 413 587 570 251 934 459 555 473 891\n",
      " 623 245 819 582 550 159 916 823 764 643  93 640 493 455 490 179   6 282\n",
      " 759 939 406 303  88 833 156 834 790  77 906 902 506 925 419 607 632 452\n",
      "  11 498 702 892 545 516 395 440 868 973 857 929 797  63 463 204  69 860\n",
      " 989 390 725 234 837 404  85 241  22 561 361 217 669 168 480 995 218 401\n",
      " 100 417  16  12  58  79 962 903 649 548 825  72  64 200 802 321 907 711\n",
      " 527 726 115 393 494 338 227 540 410 371 646 884 972 558 547  76 503 676\n",
      " 777 344]\n"
     ]
    }
   ],
   "source": [
    "col_indices = np.random.choice(1000, 200, replace=False)\n",
    "print(col_indices)"
   ]
  },
  {
   "cell_type": "code",
   "execution_count": null,
   "metadata": {},
   "outputs": [],
   "source": []
  },
  {
   "cell_type": "code",
   "execution_count": null,
   "metadata": {},
   "outputs": [
    {
     "name": "stdout",
     "output_type": "stream",
     "text": [
      "N = 20\n",
      "sum_pe1, sum_pe2, total 1 0.32 1\n",
      "[[0, 1, 2, 3, 4], [5, 6, 7, 8, 9], [10, 11, 12, 13, 14], [15, 16, 17, 18, 19], [20, 21, 22, 23, 24, 45, 46, 47, 48, 49], [25, 26, 27, 28, 29], [30, 32, 33, 34], [31], [35, 36, 37, 38, 39], [40, 41, 42, 43, 44]]\n",
      "sum_pe1, sum_pe2, total 2 0.78 7\n",
      "[[0, 1, 2, 3, 4], [5, 6, 7, 8, 9], [10, 11, 12, 13, 14], [15, 16, 17, 18, 19], [20, 21, 22, 23, 24, 45, 46, 47, 48, 49], [25, 29], [26, 27, 28], [30, 31, 32, 33, 34], [35, 36, 37, 38, 39], [40, 41, 42, 43, 44]]\n",
      "sum_pe1, sum_pe2, total 3 1.76 10\n",
      "[[0], [1, 2, 3, 4], [5, 6, 7, 8, 9], [10, 11, 12, 13, 14], [15, 16, 17, 18, 19], [20, 21, 22, 23, 24, 45, 46, 47, 48, 49], [25, 26, 27, 28, 29], [30, 31, 32, 33, 34], [35, 36, 37, 38, 39], [40, 41, 42, 43, 44]]\n",
      "sum_pe1, sum_pe2, total 4 2.2 12\n",
      "[[0, 1, 2, 3, 4], [5, 6, 7, 8, 9], [10, 11, 12, 13, 14], [15, 16, 17, 18, 19], [20, 21, 22, 23, 24, 45, 46, 47, 48, 49], [25, 26, 29], [27, 28], [30, 31, 32, 33, 34], [35, 36, 37, 38, 39], [40, 41, 42, 43, 44]]\n",
      "sum_pe1, sum_pe2, total 5 2.9400000000000004 13\n",
      "[[0, 1, 2, 3, 4], [5, 6, 7, 8, 9], [10, 11, 13], [12, 14], [15, 16, 17, 18, 19], [20, 21, 22, 23, 24, 45, 46, 47, 48, 49], [25, 26, 27, 28, 29], [30, 31, 32, 33, 34], [35, 36, 37, 38, 39], [40, 41, 42, 43, 44]]\n",
      "sum_pe1, sum_pe2, total 6 3.8600000000000003 15\n",
      "[[0, 1, 2, 3], [4], [5, 6, 7, 8, 9], [10, 11, 12, 13, 14], [15, 16, 17, 18, 19], [20, 21, 22, 23, 24, 45, 46, 47, 48, 49], [25, 26, 27, 28, 29], [30, 31, 32, 33, 34], [35, 36, 37, 38, 39], [40, 41, 42, 43, 44]]\n",
      "sum_pe1, sum_pe2, total 7 4.180000000000001 16\n",
      "[[0, 1, 2, 3, 4], [5, 6, 7, 8, 9], [10, 11, 12, 13, 14], [15, 16, 17, 18, 19], [20, 21, 22, 23, 24, 45, 46, 47, 48, 49], [25, 26, 27, 28, 29], [30, 31, 32, 34], [33], [35, 36, 37, 38, 39], [40, 41, 42, 43, 44]]\n",
      "sum_pe1, sum_pe2, total 8 5.1000000000000005 19\n",
      "[[0, 1, 2, 4], [3], [5, 6, 7, 8, 9], [10, 11, 12, 13, 14], [15, 16, 17, 18, 19], [20, 21, 22, 23, 24, 45, 46, 47, 48, 49], [25, 26, 27, 28, 29], [30, 31, 32, 33, 34], [35, 36, 37, 38, 39], [40, 41, 42, 43, 44]]\n",
      "sum_pe1, sum_pe2, total 9 5.420000000000001 20\n",
      "[[0, 1, 2, 3, 4], [5, 6, 7, 8, 9], [10, 11, 12, 13, 14], [15, 16, 17, 18, 19], [20, 21, 22, 23, 24, 45, 46, 47, 48, 49], [25, 26, 27, 28, 29], [30, 32, 33, 34], [31], [35, 36, 37, 38, 39], [40, 41, 42, 43, 44]]\n",
      "sum_pe1, sum_pe2, total 10 6.040000000000001 22\n",
      "[[0, 1, 2, 3, 4], [5, 6, 7, 8, 9], [10, 11, 12, 13, 14], [15, 16, 18, 19], [17], [20, 21, 22, 23, 24, 45, 46, 47, 48, 49], [25, 26, 27, 28, 29], [30, 31, 32, 33, 34], [35, 36, 37, 38, 39], [40, 41, 42, 43, 44]]\n",
      "Final Results for N = 20 ---------------------------------------------\n",
      "total, pe1, lnpe1, pe2, lnpe2 22 0.45454545454545453 -0.7884573603642702 0.2745454545454546 -1.2926384414115921\n",
      "-------------------------------------------------------------\n",
      "N = 40\n",
      "sum_pe1, sum_pe2, total 1 0.82 15\n",
      "[[0, 1, 2, 3, 4], [5, 6, 8, 9], [7], [10, 11, 12, 13, 14], [15, 16, 17, 18, 19], [20, 21, 22, 23, 24, 45, 46, 47, 48, 49], [25, 26, 27, 28, 29], [30, 31, 32, 33, 34], [35, 36, 37, 38, 39], [40, 41, 42, 43, 44]]\n",
      "sum_pe1, sum_pe2, total 2 0.94 68\n",
      "[[0, 1, 2, 3, 4], [5, 6, 7, 8, 9], [10, 11, 12, 13, 14], [15, 16, 17, 18, 19], [20, 21, 22, 23, 24, 45, 46, 47, 48, 49], [25, 26, 27, 28, 29], [30, 31, 32, 33, 34], [35, 36, 37, 38, 39], [40, 41, 42, 43], [44]]\n",
      "sum_pe1, sum_pe2, total 3 1.42 137\n",
      "[[0, 1, 2, 3, 4], [5, 6, 7, 8, 9], [10, 11, 12, 13, 14], [15, 16, 17, 18, 19], [20, 21, 22, 23, 24, 45, 46, 47, 48, 49], [25], [26, 27, 28, 29], [30, 31, 32, 33, 34], [35, 36, 37, 38, 39], [40, 41, 42, 43, 44]]\n",
      "sum_pe1, sum_pe2, total 4 2.1 227\n",
      "[[0, 1, 2, 3, 4], [5, 6, 7, 8, 9], [10, 11, 12, 13, 14], [15], [16, 17, 18, 19], [20, 21, 22, 23, 24, 45, 46, 47, 48, 49], [25, 26, 27, 28, 29], [30, 31, 32, 33, 34], [35, 36, 37, 38, 39], [40, 41, 42, 43, 44]]\n",
      "sum_pe1, sum_pe2, total 5 3.02 238\n",
      "[[0, 1, 3, 4], [2], [5, 6, 7, 8, 9], [10, 11, 12, 13, 14], [15, 16, 17, 18, 19], [20, 21, 22, 23, 24, 45, 46, 47, 48, 49], [25, 26, 27, 28, 29], [30, 31, 32, 33, 34], [35, 36, 37, 38, 39], [40, 41, 42, 43, 44]]\n",
      "sum_pe1, sum_pe2, total 6 3.24 360\n",
      "[[0, 1, 2, 3, 4], [5, 6, 7, 8, 9], [10, 11, 12, 13, 14], [15, 16, 17, 18, 19], [20, 21, 22, 23, 24, 45, 46, 47, 48, 49], [25, 26, 27, 28, 29], [30, 31, 32, 33, 34], [35, 36, 37, 38], [39], [40, 41, 42, 43, 44]]\n",
      "sum_pe1, sum_pe2, total 7 3.72 399\n",
      "[[0, 1, 2, 3, 4], [5, 6, 7, 8, 9], [10, 11, 12, 13, 14], [15, 16, 17, 18, 19], [20, 21, 22, 23, 24, 45, 46, 47, 48, 49], [25], [26, 27, 28, 29], [30, 31, 32, 33, 34], [35, 36, 37, 38, 39], [40, 41, 42, 43, 44]]\n",
      "sum_pe1, sum_pe2, total 8 4.34 402\n",
      "[[0, 1, 2, 3, 4], [5, 6, 7, 8, 9], [10, 11, 12, 13, 14], [15, 16, 17, 19], [18], [20, 21, 22, 23, 24, 45, 46, 47, 48, 49], [25, 26, 27, 28, 29], [30, 31, 32, 33, 34], [35, 36, 37, 38, 39], [40, 41, 42, 43, 44]]\n",
      "sum_pe1, sum_pe2, total 9 5.22 444\n",
      "[[0, 1, 2, 3, 4], [5], [6, 7, 8, 9], [10, 11, 12, 13, 14], [15, 16, 17, 18, 19], [20, 21, 22, 23, 24, 45, 46, 47, 48, 49], [25, 26, 27, 28, 29], [30, 31, 32, 33, 34], [35, 36, 37, 38, 39], [40, 41, 42, 43, 44]]\n",
      "sum_pe1, sum_pe2, total 10 5.66 854\n",
      "[[0, 1, 2, 3, 4], [5, 6, 7, 8, 9], [10, 11, 12, 13, 14], [15, 16, 17, 18, 19], [20, 21, 22, 23, 24, 45, 46, 47, 48, 49], [25, 28, 29], [26, 27], [30, 31, 32, 33, 34], [35, 36, 37, 38, 39], [40, 41, 42, 43, 44]]\n",
      "Final Results for N = 40 ---------------------------------------------\n",
      "total, pe1, lnpe1, pe2, lnpe2 854 0.0117096018735363 -4.447346100794524 0.006627634660421546 -5.016507301573478\n",
      "-------------------------------------------------------------\n",
      "N = 60\n"
     ]
    },
    {
     "ename": "ValueError",
     "evalue": "math domain error",
     "output_type": "error",
     "traceback": [
      "\u001b[1;31m---------------------------------------------------------------------------\u001b[0m",
      "\u001b[1;31mValueError\u001b[0m                                Traceback (most recent call last)",
      "Cell \u001b[1;32mIn[36], line 94\u001b[0m\n\u001b[0;32m     92\u001b[0m Pe2[ii] \u001b[38;5;241m=\u001b[39m pe2_sum\u001b[38;5;241m/\u001b[39mtotal\n\u001b[0;32m     93\u001b[0m Pe[ii] \u001b[38;5;241m=\u001b[39m error\u001b[38;5;241m/\u001b[39mtotal\n\u001b[1;32m---> 94\u001b[0m lnPe[ii] \u001b[38;5;241m=\u001b[39m \u001b[43mmath\u001b[49m\u001b[38;5;241;43m.\u001b[39;49m\u001b[43mlog\u001b[49m\u001b[43m(\u001b[49m\u001b[43mPe\u001b[49m\u001b[43m[\u001b[49m\u001b[43mii\u001b[49m\u001b[43m]\u001b[49m\u001b[43m)\u001b[49m\n\u001b[0;32m     95\u001b[0m lnPe2[ii] \u001b[38;5;241m=\u001b[39m math\u001b[38;5;241m.\u001b[39mlog(Pe2[ii])\n\u001b[0;32m     96\u001b[0m \u001b[38;5;28mprint\u001b[39m(\u001b[38;5;124mf\u001b[39m\u001b[38;5;124m'\u001b[39m\u001b[38;5;124mFinal Results for N = \u001b[39m\u001b[38;5;132;01m{\u001b[39;00mN\u001b[38;5;132;01m}\u001b[39;00m\u001b[38;5;124m ---------------------------------------------\u001b[39m\u001b[38;5;124m'\u001b[39m)\n",
      "\u001b[1;31mValueError\u001b[0m: math domain error"
     ]
    }
   ],
   "source": [
    "import math\n",
    "#constvec = [1.3,1.4,1.5,1.6,1.7,1.8,1.9,2]\n",
    "constvec = [170,180,190,200,210,220,230,240]\n",
    "Pe = np.zeros(len(constvec))\n",
    "lnPe=np.zeros(len(constvec))\n",
    "expsamples=np.zeros(len(constvec))\n",
    "print(Pe,lnPe,expsamples)\n",
    "\n",
    "for ii in range(len(constvec)):\n",
    "    const = constvec[ii]\n",
    "    iter_sum = 0\n",
    "    error = 0\n",
    "    total = 0\n",
    "    while error < 1:\n",
    "        ##############  INITIALISATION  ################\n",
    "        # cluster indices 0 to M-1 and an empty list lst\n",
    "\n",
    "        col_indices = np.random.choice(1000, nn, replace=False)\n",
    "        y = {}\n",
    "        for s in range(S):\n",
    "            y[s] = y_all[s][:, col_indices]\n",
    "\n",
    "        clusters = [[i] for i in range(M)]\n",
    "        lst = [[] for i in range(M)]\n",
    "\n",
    "        # generate first 2 samples to initialize MMD estimate\n",
    "        nn = 2\n",
    "        # X = np.asarray([np.random.normal(means[j],1,nn) for j in range(M)])\n",
    "\n",
    "        ####    Calculating initial MMDs between each pair of sequences    ####\n",
    "\n",
    "        lst_dseq =np.zeros((M,M))\n",
    "        for i in range(1,M):\n",
    "            for j in range(i):\n",
    "                lst_dseq[i][j] = computeMMD(y[i],y[j],nn)\n",
    "                lst_dseq[j][i] = lst_dseq[i][j]\n",
    "        #print(lst_fixed)\n",
    "\n",
    "        ##### TEST-STATISTIC Tn INITIALISATION #####\n",
    "        Tn = 0\n",
    "        #print(np.min(lst_index,axis = 0))               #it will a column matrix of all 0\n",
    "        #print(np.min(lst_index,axis = 1))                #it will a row matrix of all 0\n",
    "\n",
    "        #minval = np.min(lst_fixed[np.nonzero(lst_fixed)])         #will give you the non zero min value of the matrix\n",
    "        #print(minval)\n",
    "\n",
    "        #[min_i,min_j] = np.where(lst_fixed==minval)       #will give the index of the  min value of the matrix\n",
    "        #print([min_i,min_j])\n",
    "\n",
    "        #Tn = minval    #minimum inter-cluster distance\n",
    "        #print('Minimum inter-cluster distance after iteration ', nn, ':', Tn)\n",
    "\n",
    "        while Tn < (const/(nn)):\n",
    "            nn =nn + 1\n",
    "\n",
    "            lst_dc = [[] for i in range(M)]\n",
    "            lst_dc = [[lst_dseq[i][j] for j in range(i+1)] for i in range(M)]\n",
    "            for i in range(M):\n",
    "                for j in range(M):\n",
    "                    if i<j:\n",
    "                        lst_dc[i].append(lst_dc[j][i])\n",
    "            #print(lst_new)\n",
    "            #####\n",
    "            # Code for SLINK\n",
    "            clusters = [[i] for i in range(M)]\n",
    "            # Merge closest clusters till number of clusters is equal to K\n",
    "            while len(clusters)>K:\n",
    "\n",
    "                ####    FIND MINIMUM    ####\n",
    "\n",
    "                #mi = sys.float_info.max\n",
    "                mi = 100\n",
    "                for i in range(len(lst_dc)):\n",
    "                    for j in range(i+1):\n",
    "                        if i != j:\n",
    "                            if lst_dc[i][j] < mi:\n",
    "                                mi = lst_dc[i][j]\n",
    "                                a,b = [i,j]\n",
    "                #print(\"the values of a and b are :\", a,b)\n",
    "                clusters[b].extend(clusters[a])  #add the elements of a to b at the end\n",
    "                del clusters[a]                   #delete cluster a\n",
    "                #print(clusters)\n",
    "\n",
    "                ####    MERGE ROWS  ####\n",
    "                #print(\"the lst[b] is \",lst[b])\n",
    "                #print(\"the lst[a] is \",lst[a])\n",
    "                for i in range(len(lst_dc[b])):        #merge rows 'a' and 'b'\n",
    "                    if min(lst_dc[a][i],lst_dc[b][i]) != 0:\n",
    "                        lst_dc[b][i] = min(lst_dc[a][i],lst_dc[b][i])\n",
    "                del lst_dc[a]\n",
    "\n",
    "                ####    UPDATE ROWS     ####\n",
    "                for i in range(len(lst_dc)):       #update all other rows\n",
    "                    if i!=b:\n",
    "                        lst_dc[i][b] = min(lst_dc[i][a],lst_dc[i][b])\n",
    "                    del lst_dc[i][a]   #new statement\n",
    "\n",
    "                #print('dist matrix', lst)\n",
    "                #print('dist matrix 2', dist)\n",
    "                #print('clusters',clusters)\n",
    "\n",
    "            #print('Clusters after iteration ', nn, ':', clusters)\n",
    "\n",
    "            mi = 100\n",
    "            for i in range(len(lst_dc)):\n",
    "                for j in range(i+1):\n",
    "                    if i != j:\n",
    "                        if lst_dc[i][j] < mi:\n",
    "                            mi = lst_dc[i][j]\n",
    "            Tn = mi\n",
    "\n",
    "            # generate one more sample for each data stream\n",
    "            # z = np.asarray([np.random.normal(means[j],1,1) for j in range(M) ])  #creates a 1 dim array with means and SD 1\n",
    "            # X = np.append(X,z,axis=1)       # new samples   #axis =1 means it will add the values of z along column wise\n",
    "\n",
    "            #Update MMDs between each pair of data streams\n",
    "            lst_dseq_1=np.zeros((M,M))\n",
    "            for i in range(M):\n",
    "                for j in range(i):\n",
    "                    lst_dseq_1[i,j] = math.sqrt(((lst_dseq[i][j]*(nn-1)/nn)**2) + update(y[i,:],y[j,:],nn))      # updated distances\n",
    "                    lst_dseq_1[j,i]=lst_dseq_1[i,j]\n",
    "            for i in range(M):\n",
    "                for j in range(M):\n",
    "                    lst_dseq[i,j] =lst_dseq_1[i,j]\n",
    "\n",
    "        #print('Minimum inter-cluster distance after iteration ', nn, ':', Tn)\n",
    "        #print('Clusters after iteration ', nn, ':', clusters)\n",
    "        #print('Errors', error)\n",
    "        #print('Total', total)\n",
    "\n",
    "        # Check if clustering is correct and update errors and number of samples taken\n",
    "        iter_sum += nn\n",
    "        # CHECKING IF IT'S CORRECT\n",
    "        clusters.sort()\n",
    "        C_sort = []\n",
    "        for x in clusters:\n",
    "            x.sort()\n",
    "            C_sort.append(x)\n",
    "\n",
    "        if C_sort != correct:\n",
    "            error = error + 1\n",
    "        total = total + 1\n",
    "\n",
    "        #print(C_sort)\n",
    "\n",
    "\n",
    "    Pe[ii] = error/total\n",
    "    lnPe[ii] = math.log(Pe[ii])\n",
    "    expsamples[ii]= iter_sum/total\n",
    "    print(lnPe[ii],expsamples[ii])\n",
    "\n",
    "print(total,expsamples,lnPe)\n",
    "print(iter_sum / total)\n"
   ]
  },
  {
   "cell_type": "code",
   "execution_count": null,
   "metadata": {},
   "outputs": [
    {
     "name": "stderr",
     "output_type": "stream",
     "text": [
      "C:\\Users\\krroh\\AppData\\Local\\Temp\\ipykernel_5560\\2933082444.py:1: RuntimeWarning: divide by zero encountered in log\n",
      "  np.log(0)\n"
     ]
    },
    {
     "data": {
      "text/plain": [
       "np.float64(-inf)"
      ]
     },
     "execution_count": 8,
     "metadata": {},
     "output_type": "execute_result"
    }
   ],
   "source": [
    "np.log(0)"
   ]
  },
  {
   "cell_type": "code",
   "execution_count": null,
   "metadata": {},
   "outputs": [
    {
     "data": {
      "image/png": "[encoded data removed]",
      "text/plain": [
       "<Figure size 640x480 with 1 Axes>"
      ]
     },
     "metadata": {},
     "output_type": "display_data"
    }
   ],
   "source": [
    "import matplotlib.pyplot as plt\n",
    "x = [30,40,50,60,70]\n",
    "y1 = [-0.34,-0.44,-0.47,-0.56,-0.61]\n",
    "plt.plot(x, y1, '.r-', label = \"MMD, 1 big 1 small\")\n",
    "plt.xlabel('Sample size per sequence')\n",
    "plt.ylabel('ln(Pe)')\n",
    "plt.title('Gaussian Distribution')\n",
    "plt.legend()\n",
    "plt.show()"
   ]
  },
  {
   "cell_type": "code",
   "execution_count": null,
   "metadata": {},
   "outputs": [],
   "source": []
  }
 ],
 "metadata": {
  "kernelspec": {
   "display_name": "ML_env",
   "language": "python",
   "name": "python3"
  },
  "language_info": {
   "codemirror_mode": {
    "name": "ipython",
    "version": 3
   },
   "file_extension": ".py",
   "mimetype": "text/x-python",
   "name": "python",
   "nbconvert_exporter": "python",
   "pygments_lexer": "ipython3",
   "version": "3.8.18"
  },
  "orig_nbformat": 4
 },
 "nbformat": 4,
 "nbformat_minor": 2
}
